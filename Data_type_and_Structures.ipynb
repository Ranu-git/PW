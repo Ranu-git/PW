{
  "nbformat": 4,
  "nbformat_minor": 0,
  "metadata": {
    "colab": {
      "provenance": [],
      "authorship_tag": "ABX9TyOqIpXpwppj+/vV/4Rjp8n4",
      "include_colab_link": true
    },
    "kernelspec": {
      "name": "python3",
      "display_name": "Python 3"
    },
    "language_info": {
      "name": "python"
    }
  },
  "cells": [
    {
      "cell_type": "markdown",
      "metadata": {
        "id": "view-in-github",
        "colab_type": "text"
      },
      "source": [
        "<a href=\"https://colab.research.google.com/github/Ranu-git/PW/blob/main/Data_type_and_Structures.ipynb\" target=\"_parent\"><img src=\"https://colab.research.google.com/assets/colab-badge.svg\" alt=\"Open In Colab\"/></a>"
      ]
    },
    {
      "cell_type": "markdown",
      "source": [
        "# Data Types And Structures Questions\n"
      ],
      "metadata": {
        "id": "F8SglwS_Ho-9"
      }
    },
    {
      "cell_type": "markdown",
      "source": [
        "Q1. What are data structures, and why are they important?\n",
        "  \n",
        "  -Data structures are specialized ways of organizing and storing data in a computer so that it can be accessed and used efficiently.\n",
        "\n",
        "  they are  Important because of following reasons:-\n",
        "  Efficiency,Organization,Abstraction,Reusability.\n",
        "\n",
        "  ex-Arrays, Linked lists,stacks,Queues,Trees, Graphs .\n",
        "  "
      ],
      "metadata": {
        "id": "6SXHEc3UH_iU"
      }
    },
    {
      "cell_type": "markdown",
      "source": [
        "Q2.Explain the difference between mutable and immutable data types with examples?\n",
        "  \n",
        "  -Mutable data types are those whose values can be changed after they are created. This means that you can modify the internal state of the object without creating a new object.\n",
        "\n",
        "Immutable data types are those whose values cannot be changed after they are created. This means that if you want to change the value of an immutable object, you need to create a new object with the new value.\n",
        "\n",
        "Here are some examples of mutable and immutable data types in Python:\n",
        "\n",
        "Mutable data types:\n",
        "Lists, Dictionaries, Sets\n",
        "\n",
        "Immutable data types:\n",
        "Integers, Floats, Strings, Tuples\n",
        "\n"
      ],
      "metadata": {
        "id": "wyUtnyM5J_2z"
      }
    },
    {
      "cell_type": "code",
      "source": [
        "# Mutable data type (list)\n",
        "my_list = [1, 2, 3]\n",
        "my_list[0] = 4\n",
        "print(my_list)  # Output: [4, 2, 3]\n",
        "\n",
        "# Immutable data type (string)\n",
        "my_string = \"hello\"\n",
        "# my_string[0] = \"H\"  # This would result in an error\n",
        "new_string = \"H\" + my_string[1:]\n",
        "print(new_string)  # Output: Hello"
      ],
      "metadata": {
        "id": "_37XnqeLLTzo"
      },
      "execution_count": null,
      "outputs": []
    },
    {
      "cell_type": "markdown",
      "source": [
        "Q3. What are the main differences between lists and tuples in Python?\n",
        "  \n",
        "  -Mutability:\n",
        "\n",
        "Lists are mutable: You can change their contents (add, remove, or modify elements) after they are created.\n",
        "Tuples are immutable: Once created, you cannot change their contents. This means you can't add, remove, or modify elements within a tuple.\n",
        "\n",
        "Syntax:\n",
        "\n",
        "Lists are defined using square brackets []: my_list = [1, 2, 3]\n",
        "Tuples are defined using parentheses (): my_tuple = (1, 2, 3)\n",
        "Use Cases:\n",
        "\n",
        "Lists are suitable for:\n",
        "Storing collections of items that may need to be modified.\n",
        "When the order of elements is important but might change.\n",
        "Tuples are suitable for:\n",
        "Representing fixed collections of items.\n",
        "When you want to ensure data integrity (prevent accidental changes).\n",
        "Often used as keys in dictionaries (since they are immutable).\n",
        "Performance:\n",
        "\n",
        "Tuples are generally slightly more memory-efficient and faster than lists because of their immutability. Python can optimize their storage and access since it knows their contents won't change.\n",
        "Methods:\n",
        "\n",
        "Lists have more built-in methods for modification (e.g., append, insert, remove).\n",
        "Tuples have fewer methods, primarily focused on accessing elements (e.g., index, count)."
      ],
      "metadata": {
        "id": "EOVz2Z9QLnSK"
      }
    },
    {
      "cell_type": "markdown",
      "source": [
        "Q4. Describe how dictionaries store data?\n",
        "\n",
        "  -Dictionaries in Python store data using a structure called a key-value pair. Think of it like a real-world dictionary where you have a word (key) and its corresponding definition (value).\n",
        "\n",
        "  Keys:\n",
        "\n",
        "Keys are unique identifiers for values within a dictionary.\n",
        "They must be immutable data types (like strings, numbers, or tuples).\n",
        "Keys are used to access the associated values.\n",
        "\n",
        "Values:\n",
        "\n",
        "Values are the data associated with a specific key.\n",
        "Values can be of any data type (mutable or immutable), including lists, other dictionaries, etc.\n",
        "Key-Value Pairs:\n",
        "\n",
        "A key and its corresponding value together form a key-value pair.\n",
        "These pairs are stored within the dictionary.\n",
        "How it works:\n",
        "\n",
        "When you add a key-value pair to a dictionary, Python uses a hash function to convert the key into a unique hash code.\n",
        "This hash code is used to determine the location in memory where the value will be stored.\n",
        "When you want to access a value, you provide the key. Python uses the hash function again to find the location of the value associated with that key.\n"
      ],
      "metadata": {
        "id": "25iXA0EgOloE"
      }
    },
    {
      "source": [
        "my_dict = {\n",
        "    \"name\": \"Alice\",\n",
        "    \"age\": 30,\n",
        "    \"city\": \"New York\"\n",
        "}\n",
        "\n",
        "print(my_dict[\"name\"])  # Output: Alice\n"
      ],
      "cell_type": "code",
      "metadata": {
        "id": "kbojocyCPWVA"
      },
      "execution_count": null,
      "outputs": []
    },
    {
      "cell_type": "markdown",
      "source": [
        "In this example:\n",
        "\n",
        "\"name\", \"age\", and \"city\" are the keys.\n",
        "\"Alice\", 30, and \"New York\" are the values.\n",
        "\n",
        "Important points:\n",
        "\n",
        "Dictionaries are unordered, meaning the order in which you add items might not be the order in which they are stored or retrieved.\n",
        "Keys must be unique. If you try to add a key that already exists, the existing value will be overwritten.\n",
        "Dictionaries are mutable, meaning you can add, remove, or modify key-value pairs after they are created"
      ],
      "metadata": {
        "id": "JOqPpl6iPXJy"
      }
    },
    {
      "cell_type": "markdown",
      "source": [
        "Q5.Why might you use a set instead of a list in Python?\n",
        "  \n",
        "  -Key Differences and Advantages of Sets:\n",
        "\n",
        "Uniqueness: Sets only contain unique elements. If you try to add a duplicate element to a set, it will be ignored. This property is very useful when you need to ensure that a collection of items contains no duplicates.\n",
        "\n",
        "Membership Testing: Sets are highly optimized for membership testing (checking if an element is present in the set). The in operator is very fast with sets because sets use a hash table implementation for storing elements, allowing for efficient lookups.\n",
        "You need fast membership testing (**in** operator).\n",
        "\n",
        "Mathematical Set Operations: Sets support mathematical set operations like union, intersection, difference, and more. These operations can be very convenient for tasks involving comparing and manipulating collections of items.If you need to perform set operations like finding the union, intersection, or difference between collections, using sets is the most natural and efficient way.\n",
        "\n",
        "When to Use Sets over Lists:\n",
        "\n",
        "Removing Duplicates: If you need to quickly remove duplicates from a list, converting it to a set and then back to a list is an efficient way to do it:"
      ],
      "metadata": {
        "id": "-Wq6x9PTQoXd"
      }
    },
    {
      "source": [
        "# Using a set to find common elements (intersection)\n",
        "set1 = {1, 2, 3, 4}\n",
        "set2 = {3, 4, 5, 6}\n",
        "common_elements = set1.intersection(set2)  # Output: {3, 4}"
      ],
      "cell_type": "code",
      "metadata": {
        "id": "Br_aGR7kScCl"
      },
      "execution_count": null,
      "outputs": []
    },
    {
      "source": [
        "my_list = [1, 2, 2, 3, 4, 4, 5]\n",
        "   unique_list = list(set(my_list))  # Output: [1, 2, 3, 4, 5]"
      ],
      "cell_type": "code",
      "metadata": {
        "id": "9GeM8AEPSUeo"
      },
      "execution_count": null,
      "outputs": []
    },
    {
      "cell_type": "markdown",
      "source": [
        "Q6. What is a string in Python, and how is it different from a list?\n",
        "  \n",
        "  -A string in Python is a sequence of characters, such as letters, numbers, symbols, and whitespace.\n",
        "  "
      ],
      "metadata": {
        "id": "8q6qzVe-Swz1"
      }
    },
    {
      "source": [
        "my_string = \"Hello, world!\""
      ],
      "cell_type": "code",
      "metadata": {
        "id": "MJq0n534THx4"
      },
      "execution_count": null,
      "outputs": []
    },
    {
      "cell_type": "markdown",
      "source": [
        "Mutability:\n",
        "\n",
        "Strings are immutable, meaning you cannot change their individual characters after they are created. If you need to modify a string, you need to create a new one.\n",
        "Lists are mutable, meaning you can change their elements (add, remove, or modify) after they are created.\n",
        "\n",
        "Strings support operations like concatenation (+), repetition (*), slicing ([:]), and various string-specific methods (e.g., upper(), lower(), split()).\n",
        "Lists support operations like indexing (list[index]), slicing (list[:]), appending (append()), inserting (insert()), removing (remove()), and other list-specific methods.\n",
        "Use Cases:\n",
        "\n",
        "Strings are used for storing and manipulating text data, such as names, sentences, paragraphs, etc.\n",
        "\n",
        "Lists are used for storing collections of items that may need to be modified, such as a list of numbers, a list of names, or a list of tasks."
      ],
      "metadata": {
        "id": "GTBaThqcTJQ6"
      }
    },
    {
      "cell_type": "markdown",
      "source": [
        "Q7. How do tuples ensure data integrity in Python?\n",
        "  \n",
        "  -Immutability: The Key to Data Integrity\n",
        "\n",
        "The primary way tuples ensure data integrity is through their immutability. This means that once a tuple is created, its elements cannot be changed .\n",
        "you can't add, remove, or modify the items within it.\n",
        "\n",
        "Preventing Accidental Changes: Since tuple elements can't be modified, you eliminate the risk of accidentally altering data that should remain constant. This is especially important in scenarios where you're working with sensitive or critical data.\n",
        "\n",
        "Data Consistency: Immutability guarantees that the data within a tuple will remain consistent throughout its lifetime. You can be confident that the tuple's values won't be unexpectedly altered by other parts of your code.\n",
        "\n",
        "Use as Dictionary Keys: Tuples can be used as keys in dictionaries because they are immutable. Dictionary keys need to be hashable (have a fixed hash value), and immutability ensures that a tuple's hash value won't change, making it a reliable key.\n",
        "\n",
        "Data Protection in Function Arguments: When you pass a tuple as an argument to a function, you can be sure that the function won't modify the original tuple. This helps to prevent unintended side effects.\n",
        "Creating Read-Only Data Structures: Tuples are often used to create read-only collections of data, ensuring that the data remains unchanged during program execution."
      ],
      "metadata": {
        "id": "CYwNeaQ5Uu5j"
      }
    },
    {
      "source": [
        "my_tuple = (1, 2, 3)\n",
        "# my_tuple[0] = 4  # This would raise a TypeError because tuples are immutable"
      ],
      "cell_type": "code",
      "metadata": {
        "id": "sWd-K6rWVlJa"
      },
      "execution_count": null,
      "outputs": []
    },
    {
      "cell_type": "markdown",
      "source": [
        "Q8.What is a hash table, and how does it relate to dictionaries in Python?\n",
        "\n",
        "  -A hash table is a data structure that stores data in key-value pairs, where each key is unique and the hash table uses a hash function to compute an index into an array of buckets or slots, from which the desired value can be found.\n",
        "\n",
        " dictionaries are implemented using hash tables. This means that when you create a dictionary, Python internally uses a hash table to store the key-value pairs.\n",
        "\n",
        "Benefits of Using Hash Tables for Dictionaries:\n",
        "\n",
        "Efficient Lookups: Hash tables provide very fast lookups, insertions, and deletions of key-value pairs, on average taking O(1) time complexity.\n",
        "Key Uniqueness: Hash tables ensure that keys are unique, preventing duplicate keys within a dictionary.\n",
        "Flexible Key Types: Dictionaries can use various immutable data types as keys, such as strings, numbers, and tuples, because hash functions can be applied to these types."
      ],
      "metadata": {
        "id": "SI-1SAzoVngb"
      }
    },
    {
      "source": [
        "my_dict = {\"name\": \"Alice\", \"age\": 30, \"city\": \"New York\"}"
      ],
      "cell_type": "code",
      "metadata": {
        "id": "jEaMKWkgYoXh"
      },
      "execution_count": null,
      "outputs": []
    },
    {
      "cell_type": "markdown",
      "source": [
        "Python internally uses a hash table to store the key-value pairs: \"name\"-\"Alice\", \"age\"-30, and \"city\"-\"New York\". When you access a value using a key (e.g., my_dict[\"name\"]), Python uses the hash function to quickly locate the corresponding value in the hash table.\n",
        "\n"
      ],
      "metadata": {
        "id": "0HrAFGbzYq61"
      }
    },
    {
      "cell_type": "markdown",
      "source": [
        "Q9. Can lists contain different data types in Python?\n",
        "  \n",
        "  -Yes, lists in Python 3 can absolutely contain different data type.\n",
        "\n",
        "Lists in Python are very flexible and can hold a mix of data types within the same list. This means you can have integers, floats, strings, booleans, other lists, tuples, dictionaries, and even custom objects all within a single list."
      ],
      "metadata": {
        "id": "ZrBqcT1ZYtjA"
      }
    },
    {
      "source": [
        "my_list = [10, \"hello\", 3.14, True, [1, 2, 3], (\"apple\", \"banana\"), {\"name\": \"Alice\"}]"
      ],
      "cell_type": "code",
      "metadata": {
        "id": "cuvP68Tgwc-u"
      },
      "execution_count": null,
      "outputs": []
    },
    {
      "cell_type": "markdown",
      "source": [
        "In this example, my_list contains:\n",
        "\n",
        "An integer (10)\n",
        "A string (\"hello\")\n",
        "A float (3.14)\n",
        "A boolean (True)\n",
        "Another list ([1, 2, 3])\n",
        "A tuple ((\"apple\", \"banana\"))\n",
        "A dictionary ({\"name\": \"Alice\"})"
      ],
      "metadata": {
        "id": "Y3uNmBTuwjmX"
      }
    },
    {
      "cell_type": "markdown",
      "source": [
        "Q10.P Explain why strings are immutable in Python?\n",
        "  \n",
        "  -Immutability of Strings\n",
        "\n",
        "In Python, strings are immutable, which means that once a string object is created, its contents cannot be changed. You cannot modify individual characters within a string."
      ],
      "metadata": {
        "id": "f5d2arEcwl7W"
      }
    },
    {
      "source": [
        "my_string = \"hello\"\n",
        "new_string = my_string + \" world\"\n",
        "\n",
        "print(my_string)     # Output: hello\n",
        "print(new_string)   # Output: hello world"
      ],
      "cell_type": "code",
      "metadata": {
        "id": "XzbzkzEQxWij"
      },
      "execution_count": null,
      "outputs": []
    },
    {
      "cell_type": "markdown",
      "source": [
        "Benefits of Immutability\n",
        "\n",
        "While immutability might seem restrictive at first, it brings important benefits:\n",
        "\n",
        "Predictability: You can be confident that a string's value will not change unexpectedly during program execution.\n",
        "\n",
        "Safety: It helps prevent unintended side effects and security issues.\n",
        "\n",
        "Efficiency: It allows for various performance optimizations.\n",
        "\n",
        "Data Integrity: Ensures that string data remains consistent."
      ],
      "metadata": {
        "id": "aaDWhtTBxXPF"
      }
    },
    {
      "cell_type": "markdown",
      "source": [
        "Q11. What advantages do dictionaries offer over lists for certain tasks?\n",
        "  -Key Advantages of Dictionaries\n",
        "\n",
        "Efficient Lookups: Dictionaries are highly optimized for retrieving values based on their keys. This is because dictionaries use a hash table implementation, which allows for average-case O(1) time complexity for lookups. In contrast, searching for an element in a list requires iterating through the list, which can be slower, especially for large lists.\n",
        "\n",
        "Data Organization: Dictionaries provide a natural way to represent data as key-value pairs, making it easier to organize and access information. This is particularly useful when you have data with inherent relationships between elements, such as storing information about a person (name, age, address, etc.).\n",
        "\n",
        "Flexibility: Dictionaries can store values of any data type, including other dictionaries, lists, and custom objects. This flexibility allows you to create complex data structures to represent real-world entities and relationships.\n",
        "\n",
        "Key Uniqueness: Dictionaries enforce the uniqueness of keys, ensuring that each key maps to a single value. This helps to prevent data inconsistencies and ensures data integrity."
      ],
      "metadata": {
        "id": "JG4XB8y6xeop"
      }
    },
    {
      "source": [
        "student = {\n",
        "    \"name\": \"Alice\",\n",
        "    \"age\": 20,\n",
        "    \"grades\": [90, 85, 92]\n",
        "}\n",
        "\n",
        "student_name = student[\"name\"]  # Accesses the student's name\n",
        "student_grades = student[\"grades\"] # Accesses the student's grades"
      ],
      "cell_type": "code",
      "metadata": {
        "id": "v064ONweyqOu"
      },
      "execution_count": null,
      "outputs": []
    },
    {
      "cell_type": "markdown",
      "source": [
        "Q12. Describe a scenario where using a tuple would be preferable over a list?\n",
        "  \n",
        "  -Representing a Point in 2D Space\n",
        "   Each point has an x-coordinate and a y-coordinate. In this scenario, using a tuple would be preferable to using a list .\n",
        "   You need to represent fixed collections of data.\n",
        "Data integrity is a priority and you want to prevent accidental modifications.\n",
        "You want to convey the idea that the elements are conceptually linked and form a single unit."
      ],
      "metadata": {
        "id": "OLF3TdJFyybE"
      }
    },
    {
      "source": [
        "point1 = (3, 5)  # Represents a point at (3, 5)\n",
        "point2 = (1, 2)  # Represents a point at (1, 2)"
      ],
      "cell_type": "code",
      "metadata": {
        "id": "hqSbp_Tf1zaF"
      },
      "execution_count": null,
      "outputs": []
    },
    {
      "cell_type": "markdown",
      "source": [
        "Advantages of Using Tuples in this Scenario\n",
        "\n",
        "Preventing accidental modification: If you were to accidentally try to change the x-coordinate of point1 using point1[0] = 4, it would raise a TypeError because tuples are immutable, preventing unintended modifications.\n",
        "\n",
        "Data consistency: You can be confident that the coordinates of point1 will remain (3, 5) throughout the program's execution.\n",
        "\n",
        "Clear representation: Using a tuple makes it clear that the two values (3 and 5) are conceptually linked and represent a single entity (a point)."
      ],
      "metadata": {
        "id": "W5C0CZaQ2C1E"
      }
    },
    {
      "cell_type": "markdown",
      "source": [
        "Q13. How do sets handle duplicate values in Python?\n",
        "\n",
        "  -Uniqueness is Key\n",
        "\n",
        "Sets in Python are fundamentally designed to store unique elements. This means that if you try to add a duplicate value to a set, it will be ignored, and the set will only retain one instance of that value."
      ],
      "metadata": {
        "id": "m-P-xgMK3CZi"
      }
    },
    {
      "source": [
        "my_set = {1, 2, 3, 2, 4, 1}  # Trying to add duplicates\n",
        "print(my_set)  # Output: {1, 2, 3, 4}"
      ],
      "cell_type": "code",
      "metadata": {
        "id": "hk7Esc0F3tUI"
      },
      "execution_count": null,
      "outputs": []
    },
    {
      "cell_type": "markdown",
      "source": [
        "Q14. How does the “in” keyword work differently for lists and dictionaries?\n",
        "  \n",
        "  - in List it iterate the list  while in dictionaries it uses hash table to check efficiently wheather a element is present or not.\n",
        "\n",
        "  Lists: Checking for Element Membership\n",
        "\n",
        "When used with lists, the in keyword checks for element membership. It returns True if the specified element is present in the list, and False otherwise.\n",
        "\n",
        "How it works:\n",
        "\n",
        "Python iterates through each element of the list.\n",
        "If the current element matches the specified element, in returns True.\n",
        "If the loop completes without finding a match, in returns False.\n",
        "\n",
        "Dictionaries: Checking for Key Existence\n",
        "\n",
        "When used with dictionaries, the in keyword checks for key existence. It returns True if the specified key is present in the dictionary, and False otherwise.\n",
        "\n",
        "How it works:\n",
        "\n",
        "Python uses the dictionary's hash table implementation to efficiently check if the specified key exists.\n",
        "If the key is found in the hash table, in returns True.\n",
        "If the key is not found, in returns False.\n",
        "\n"
      ],
      "metadata": {
        "id": "sztQMITM4AAa"
      }
    },
    {
      "source": [
        "my_list = [1, 2, 3, 4, 5]\n",
        "\n",
        "print(3 in my_list)  # Output: True\n",
        "print(6 in my_list)  # Output: False"
      ],
      "cell_type": "code",
      "metadata": {
        "id": "DhKTqMhh6Tt-"
      },
      "execution_count": null,
      "outputs": []
    },
    {
      "source": [
        "my_dict = {\"name\": \"Alice\", \"age\": 30, \"city\": \"New York\"}\n",
        "\n",
        "print(\"name\" in my_dict)  # Output: True\n",
        "print(\"country\" in my_dict) # Output: False"
      ],
      "cell_type": "code",
      "metadata": {
        "id": "LieuEXh56Ubl"
      },
      "execution_count": null,
      "outputs": []
    },
    {
      "cell_type": "markdown",
      "source": [
        "Q15.Can you modify the elements of a tuple? Explain why or why not?\n",
        "\n",
        "  -No, you cannot modify the elements of a tuple.\n",
        "\n",
        "Reason: Immutability\n",
        "\n",
        "Tuples are immutable data structures in Python. This means that once a tuple is created, its elements cannot be changed you can't add, remove, or modify the items within it.\n",
        "\n",
        "There are several reasons behind the immutability of tuples:\n",
        "\n",
        "Data Integrity: Immutability ensures that the data within a tuple remains constant throughout its lifetime. This is crucial for scenarios where you need to guarantee that data won't be accidentally or intentionally altered.\n",
        "\n",
        "Hashing and Dictionary Keys: Tuples can be used as keys in dictionaries because they are immutable. Dictionary keys need to be hashable (have a fixed hash value), and immutability guarantees that a tuple's hash value won't change, making it a reliable key.\n",
        "\n",
        "Performance: Tuples are generally slightly more memory-efficient and faster than lists because of their immutability. Python can optimize their storage and access since it knows their contents won't change.\n",
        "\n",
        "What Happens When You Try to Modify\n",
        "\n",
        "If you attempt to modify an element of a tuple, Python will raise a TypeError indicating that the 'tuple' object does not support item assignment.\n"
      ],
      "metadata": {
        "id": "V8BZiJNZ6oYI"
      }
    },
    {
      "source": [
        "my_tuple = (1, 2, 3)\n",
        "# my_tuple[0] = 4  # This would raise a TypeError"
      ],
      "cell_type": "code",
      "metadata": {
        "id": "T428BBDQ7fft"
      },
      "execution_count": null,
      "outputs": []
    },
    {
      "cell_type": "markdown",
      "source": [
        "If you need to modify data that is currently in a tuple, you have a couple of options:\n",
        "\n",
        "Create a New Tuple: You can create a new tuple with the desired modifications based on the original tuple.\n",
        "\n",
        "Convert to a List: Convert the tuple to a list, make the changes, and then convert it back to a tuple."
      ],
      "metadata": {
        "id": "PyeKLMrx7h8L"
      }
    },
    {
      "source": [
        "my_tuple = (1, 2, 3)\n",
        "new_tuple = my_tuple[:1] + (4,) + my_tuple[2:]  # Creating a new tuple\n",
        "print(new_tuple)  # Output: (1, 4, 3)"
      ],
      "cell_type": "code",
      "metadata": {
        "id": "XqqlPEck7jH8"
      },
      "execution_count": null,
      "outputs": []
    },
    {
      "cell_type": "markdown",
      "source": [
        "Q16. What is a nested dictionary, and give an example of its use case?\n",
        "\n",
        "  -A nested dictionary is a dictionary where the values are themselves dictionaries. This creates a hierarchical structure of data, allowing you to represent more complex relationships between information.\n",
        "\n",
        "Structure\n",
        "\n",
        "In a nested dictionary, you have an outer dictionary that contains key-value pairs. The values associated with these keys can be other dictionaries, which in turn can contain further nested dictionaries, and so on."
      ],
      "metadata": {
        "id": "pz7BmLB078Gp"
      }
    },
    {
      "source": [
        "student_data = {\n",
        "    \"Alice\": {\n",
        "        \"age\": 20,\n",
        "        \"major\": \"Computer Science\",\n",
        "        \"grades\": {\"midterm\": 85, \"final\": 92}\n",
        "    },\n",
        "    \"Bob\": {\n",
        "        \"age\": 22,\n",
        "        \"major\": \"Physics\",\n",
        "        \"grades\": {\"midterm\": 78, \"final\": 88}\n",
        "    }\n",
        "}\n",
        "\n",
        "alice_age = student_data[\"Alice\"][\"age\"]  # Accesses Alice's age (20)\n",
        "bob_final_grade = student_data[\"Bob\"][\"grades\"][\"final\"]  # Accesses Bob's final exam grade (88)"
      ],
      "cell_type": "code",
      "metadata": {
        "id": "J4mPxYaY8xXc"
      },
      "execution_count": null,
      "outputs": []
    },
    {
      "cell_type": "markdown",
      "source": [
        "Use Cases\n",
        "\n",
        "Nested dictionaries are useful for representing complex data structures where information is organized hierarchically.\n",
        "\n",
        "Here are some common use cases:\n",
        "\n",
        "Storing Student Records: As shown in the example above, you can use nested dictionaries to store student information, where each student has a set of attributes, including nested information like grades.\n",
        "\n",
        "Representing Hierarchical Data: Nested dictionaries can represent data with multiple levels of organization, such as a file system structure, a company's organizational chart, or a family tree.\n",
        "\n",
        "Storing Configuration Settings: Complex configuration settings for an application can be organized using nested dictionaries, allowing for grouping of related settings and sub-settings.\n",
        "\n",
        "Organizing Data for Web APIs: When working with data from web APIs, nested dictionaries are often used to represent JSON responses, which commonly have nested structures."
      ],
      "metadata": {
        "id": "vXLRb33B9GpK"
      }
    },
    {
      "cell_type": "markdown",
      "source": [
        "Q17. Describe the time complexity of accessing elements in a dictionary?\n",
        "\n",
        "  -Time Complexity: Average Case O(1), Worst Case O(n)\n",
        "\n",
        "Accessing elements in a dictionary using a key typically has an average time complexity of O(1), also known as constant time. This means that the time it takes to access an element is independent of the size of the dictionary.\n",
        "\n",
        "How it Works\n",
        "\n",
        "Dictionaries in Python are implemented using hash tables. When you access an element using a key:\n",
        "\n",
        "Hashing: The hash function is applied to the key to calculate a hash code.\n",
        "\n",
        "Index Calculation: The hash code is used to determine the index within the hash table's internal array where the element is stored.\n",
        "\n",
        "Retrieval: The element is retrieved from the calculated index.\n",
        "\n",
        "Since hash tables are designed for efficient key-based lookups, these steps generally take a constant amount of time, regardless of the number of elements in the dictionary.\n",
        "\n",
        "Worst Case Scenario\n",
        "\n",
        "However, in the worst-case scenario, where there are collisions (multiple keys hashing to the same index), the time complexity can become O(n), where n is the number of elements in the dictionary. This happens when all keys collide and are stored in the same bucket, requiring a linear search to find the desired element.\n",
        "\n",
        "Factors Affecting Time Complexity\n",
        "\n",
        "Hash Function: The quality of the hash function used by the dictionary implementation plays a role in minimizing collisions and ensuring efficient lookups. Python's built-in hash function is generally well-designed for common data types.\n",
        "\n",
        "Load Factor: The load factor of a hash table is the ratio of the number of elements to the size of the internal array. As the load factor increases, the probability of collisions also increases, potentially affecting performance. Python's dictionary implementation automatically resizes the internal array to maintain an optimal load factor.\n",
        "\n",
        "In Practice\n",
        "\n",
        "In most real-world scenarios, dictionaries provide very fast access to elements with an average time complexity of O(1). The worst-case scenario of O(n) is relatively rare, especially with a well-designed hash function and automatic resizing of the hash table.\n",
        "\n",
        "Benefits of O(1) Access\n",
        "\n",
        "The O(1) average time complexity for accessing elements in dictionaries makes them a highly efficient choice for tasks that involve frequent key-based lookups, such as:\n",
        "\n",
        "Storing and retrieving data: Dictionaries are ideal for storing data where you need to quickly access values based on specific keys.\n",
        "\n",
        "Implementing caches: Dictionaries can be used to implement caches to store frequently accessed data and avoid redundant computations.\n",
        "\n",
        "Representing relationships: Dictionaries provide a natural way to represent relationships between data elements, where keys can be used to identify related values.\n"
      ],
      "metadata": {
        "id": "o05QN8xY9Sv0"
      }
    },
    {
      "cell_type": "markdown",
      "source": [
        "Q18.  In what situations are lists preferred over dictionaries?\n",
        "\n",
        "  -\n",
        "Choose lists over dictionaries when:\n",
        "\n",
        "Order of elements is important.\n",
        "You need to store duplicate values.\n",
        "You need to modify elements by index.\n",
        "You need a simple, ordered collection of data.\n",
        "Memory efficiency is a significant concern and key-based lookups are not frequent.\n"
      ],
      "metadata": {
        "id": "wg1otxof_k2R"
      }
    },
    {
      "cell_type": "markdown",
      "source": [
        "Q19.  Why are dictionaries considered unordered, and how does that affect data retrieval?\n",
        "\n",
        "  -Unordered Nature of Dictionaries\n",
        "\n",
        "Dictionaries in Python are considered unordered because they do not guarantee that the elements will be stored or retrieved in the same order they were added. This is due to the underlying implementation of dictionaries using hash tables.\n",
        "\n",
        "Hash Tables and Ordering\n",
        "\n",
        "Hash tables are designed for efficient key-based lookups, not for maintaining the order of elements. When you add a key-value pair to a dictionary, Python uses a hash function to determine the position where the value will be stored in the hash table. This position is based on the hash value of the key, not on the order of insertion.\n",
        "\n",
        "Impact on Data Retrieval\n",
        "\n",
        "The unordered nature of dictionaries affects data retrieval in the following ways:\n",
        "\n",
        "No Guaranteed Order: When you iterate through a dictionary using a for loop or methods like keys(), values(), or items(), the order in which the elements are returned is not guaranteed to be the same as the order in which they were added.\n",
        "\n",
        "Key-Based Access: Dictionaries are primarily designed for key-based access, meaning you retrieve values by providing their corresponding keys. The order of elements is not relevant for this type of access.\n",
        "\n",
        "Potential for Variation: The order of elements in a dictionary might vary between different Python versions or even between different runs of the same program.\n"
      ],
      "metadata": {
        "id": "AO-tmdo0CmXG"
      }
    },
    {
      "source": [
        "my_dict = {'apple': 1, 'banana': 2, 'orange': 3}\n",
        "\n",
        "# Iterating through the dictionary\n",
        "for key, value in my_dict.items():\n",
        "    print(key, value)\n",
        "\n",
        "# The output might be:\n",
        "# banana 2\n",
        "# apple 1\n",
        "# orange 3"
      ],
      "cell_type": "code",
      "metadata": {
        "id": "YKgq6ailFChP"
      },
      "execution_count": null,
      "outputs": []
    },
    {
      "cell_type": "markdown",
      "source": [
        "Q20.  Explain the difference between a list and a dictionary in terms of data retrieval?\n",
        "\n",
        "-Lists: Retrieval by Position\n",
        "\n",
        "Ordered Collection: Lists store elements in a specific, ordered sequence.\n",
        "\n",
        "Index-Based Access: You retrieve elements from a list using their numerical index (position), starting from 0 for the first element.\n",
        "\n",
        "Sequential Retrieval: To access a specific element, you need to know its index within the list. If you don't know the index, you might have to search through the list sequentially."
      ],
      "metadata": {
        "id": "wlHdZjbbFGbf"
      }
    },
    {
      "source": [
        "my_list = [\"apple\", \"banana\", \"orange\"]\n",
        "\n",
        "# Accessing elements by index:\n",
        "first_fruit = my_list[0]  # Retrieves \"apple\"\n",
        "second_fruit = my_list[1] # Retrieves \"banana\""
      ],
      "cell_type": "code",
      "metadata": {
        "id": "7qN5ieGuHpEn"
      },
      "execution_count": null,
      "outputs": []
    },
    {
      "cell_type": "markdown",
      "source": [
        "Dictionaries: Retrieval by Key\n",
        "\n",
        "Key-Value Pairs: Dictionaries store data in key-value pairs. Each key is unique and associated with a specific value.\n",
        "\n",
        "Key-Based Access: You retrieve values from a dictionary using their corresponding keys.\n",
        "\n",
        "Direct Retrieval: Dictionaries use a hash table implementation, allowing for fast and direct retrieval of values based on their keys."
      ],
      "metadata": {
        "id": "2vnS0tkXHrXy"
      }
    },
    {
      "source": [
        "my_dict = {\"name\": \"Alice\", \"age\": 30, \"city\": \"New York\"}\n",
        "\n",
        "# Accessing values by key:\n",
        "name = my_dict[\"name\"]  # Retrieves \"Alice\"\n",
        "age = my_dict[\"age\"]    # Retrieves 30"
      ],
      "cell_type": "code",
      "metadata": {
        "id": "ZaazaXDKHspo"
      },
      "execution_count": null,
      "outputs": []
    },
    {
      "cell_type": "markdown",
      "source": [
        "In Summary:\n",
        "\n",
        "Lists are efficient for retrieving elements when you know their position (index) within the list. However, searching for a specific element in a large list can be slower because you might have to iterate through the entire list.\n",
        "\n",
        "Dictionaries excel at retrieving data when you know the key associated with the value you want. Their hash table implementation allows for very fast and direct access to values, making them ideal for scenarios where data is associated with unique identifiers."
      ],
      "metadata": {
        "id": "inkzGCniH9vY"
      }
    },
    {
      "cell_type": "markdown",
      "source": [
        "# Practical Questions"
      ],
      "metadata": {
        "id": "kjBDwR_fIh-J"
      }
    },
    {
      "cell_type": "code",
      "source": [
        "# Q1.Write a code to create a string with your name and print it?\n",
        "name =\"ranu\"\n",
        "print(name)\n"
      ],
      "metadata": {
        "colab": {
          "base_uri": "https://localhost:8080/"
        },
        "id": "3ipvGPBYH9WG",
        "outputId": "258d787f-30cf-4867-9563-ce1846646458"
      },
      "execution_count": null,
      "outputs": [
        {
          "output_type": "stream",
          "name": "stdout",
          "text": [
            "ranu\n"
          ]
        }
      ]
    },
    {
      "cell_type": "code",
      "source": [
        "# Q2. Write a code to find the length of the string \"Hello World\"?\n",
        "string = \"Hello World\"\n",
        "print(len(string))\n"
      ],
      "metadata": {
        "colab": {
          "base_uri": "https://localhost:8080/"
        },
        "id": "5TuiQleMI1kb",
        "outputId": "2d538b96-3d57-4c6f-a9fd-3b1f10741abf"
      },
      "execution_count": null,
      "outputs": [
        {
          "output_type": "stream",
          "name": "stdout",
          "text": [
            "11\n"
          ]
        }
      ]
    },
    {
      "cell_type": "code",
      "source": [
        "# Q3.Write a code to slice the first 3 characters from the string \"Python Programming\"?\n",
        "string = \"python programming\"\n",
        "print(string[0:3])"
      ],
      "metadata": {
        "colab": {
          "base_uri": "https://localhost:8080/"
        },
        "id": "uVwy3wJEKoZc",
        "outputId": "0dddba34-61cb-462f-d96b-04fe40d3e0a9"
      },
      "execution_count": null,
      "outputs": [
        {
          "output_type": "stream",
          "name": "stdout",
          "text": [
            "pyt\n"
          ]
        }
      ]
    },
    {
      "cell_type": "code",
      "source": [
        "# Q4.Write a code to convert the string \"hello\" to uppercase?\n",
        "string = \"hello\"\n",
        "print(string.upper())"
      ],
      "metadata": {
        "colab": {
          "base_uri": "https://localhost:8080/"
        },
        "id": "ivRdUm1SLDAy",
        "outputId": "54996582-0965-4999-fa78-4ac3398cc447"
      },
      "execution_count": null,
      "outputs": [
        {
          "output_type": "stream",
          "name": "stdout",
          "text": [
            "HELLO\n"
          ]
        }
      ]
    },
    {
      "cell_type": "code",
      "source": [
        "# Q5. Write a code to replace the word \"apple\" with \"orange\" in the string \"I like apple\"?\n",
        "string = \"I like apple\"\n",
        "new_string = string.replace(\"apple\", \"orange\")\n",
        "print(new_string)  # Output: I like orange"
      ],
      "metadata": {
        "colab": {
          "base_uri": "https://localhost:8080/"
        },
        "id": "BB7yIiLGMKO3",
        "outputId": "62bd99e7-e1ab-492d-bc7e-9eeee10b56b5"
      },
      "execution_count": null,
      "outputs": [
        {
          "output_type": "stream",
          "name": "stdout",
          "text": [
            "I like orange\n"
          ]
        }
      ]
    },
    {
      "cell_type": "code",
      "source": [
        "# Q6.Write a code to create a list with numbers 1 to 5 and print it?\n",
        "my_list=[1,2,3,4,5]\n",
        "print(my_list)"
      ],
      "metadata": {
        "colab": {
          "base_uri": "https://localhost:8080/"
        },
        "id": "uxtj8SjtN1Pw",
        "outputId": "d3051b6f-0664-46b9-f7f9-215e9e1f32e6"
      },
      "execution_count": null,
      "outputs": [
        {
          "output_type": "stream",
          "name": "stdout",
          "text": [
            "[1, 2, 3, 4, 5]\n"
          ]
        }
      ]
    },
    {
      "cell_type": "code",
      "source": [
        "#Q7. Write a code to append the number 10 to the list [1, 2, 3, 4]?\n",
        "my_list =[1,2,3,4]\n",
        "my_list.append(10)\n",
        "print(my_list)"
      ],
      "metadata": {
        "colab": {
          "base_uri": "https://localhost:8080/"
        },
        "id": "g1RN1ktXRSkd",
        "outputId": "9c6106fb-a961-4aa0-e8d4-1c6a5f62b0e5"
      },
      "execution_count": null,
      "outputs": [
        {
          "output_type": "stream",
          "name": "stdout",
          "text": [
            "[1, 2, 3, 4, 10]\n"
          ]
        }
      ]
    },
    {
      "cell_type": "code",
      "source": [
        "# Q8.Write a code to remove the number 3 from the list [1, 2, 3, 4, 5]?\n",
        "my_list=[1,2,3,4,5]\n",
        "my_list.remove(3)\n",
        "my_list"
      ],
      "metadata": {
        "colab": {
          "base_uri": "https://localhost:8080/"
        },
        "id": "W_WY-yNFRiau",
        "outputId": "a7f833b9-1cf4-4804-93e6-54759f7e82f3"
      },
      "execution_count": null,
      "outputs": [
        {
          "output_type": "execute_result",
          "data": {
            "text/plain": [
              "[1, 2, 4, 5]"
            ]
          },
          "metadata": {},
          "execution_count": 16
        }
      ]
    },
    {
      "cell_type": "code",
      "source": [
        "#Q 9.Write a code to access the second element in the list ['a', 'b', 'c', 'd']?\n",
        "my_list =['a','b','c','d']\n",
        "my_list[1]"
      ],
      "metadata": {
        "colab": {
          "base_uri": "https://localhost:8080/",
          "height": 36
        },
        "id": "wiCDhHDTR2Xc",
        "outputId": "4f48d881-2803-44b9-8491-8473c7735c75"
      },
      "execution_count": null,
      "outputs": [
        {
          "output_type": "execute_result",
          "data": {
            "text/plain": [
              "'b'"
            ],
            "application/vnd.google.colaboratory.intrinsic+json": {
              "type": "string"
            }
          },
          "metadata": {},
          "execution_count": 17
        }
      ]
    },
    {
      "cell_type": "code",
      "source": [
        "#Q 10.Write a code to reverse the list [10, 20, 30, 40, 50].\n",
        "my_list = [10,20,30,40,50]\n",
        "#my_list[::-1]\n",
        "my_list.reverse()\n",
        "print(my_list)\n",
        "#my_list[2:5]: Extracts elements from index 2 to 4 (indices 2, 3, and 4).\n",
        "#my_list[:4]: Extracts elements from the beginning to index 3 (indices 0, 1, 2, and 3).\n",
        "#my_list[3:]: Extracts elements from index 3 to the end of the list.\n",
        "#my_list[::2]: Extracts every other element (step value of 2).\n",
        "#my_list[::-1]: Reverses the list (negative step value)."
      ],
      "metadata": {
        "colab": {
          "base_uri": "https://localhost:8080/"
        },
        "id": "GpG7RTkWS9gE",
        "outputId": "958e5b20-3685-46d9-f89c-9bbc4e63b787"
      },
      "execution_count": null,
      "outputs": [
        {
          "output_type": "stream",
          "name": "stdout",
          "text": [
            "[50, 40, 30, 20, 10]\n"
          ]
        }
      ]
    },
    {
      "cell_type": "code",
      "source": [
        "# Q 11. Write a code to create a tuple with the elements 100, 200, 300 and print it?\n",
        "my_tuple =(100,200,300)\n",
        "print(my_tuple)"
      ],
      "metadata": {
        "colab": {
          "base_uri": "https://localhost:8080/"
        },
        "id": "vF20MIwoTlI2",
        "outputId": "f0726399-58de-4301-f1e4-e8958dee18c7"
      },
      "execution_count": null,
      "outputs": [
        {
          "output_type": "stream",
          "name": "stdout",
          "text": [
            "(100, 200, 300)\n"
          ]
        }
      ]
    },
    {
      "cell_type": "code",
      "source": [
        "# Q12. Write a code to access the second-to-last element of the tuple ('red', 'green', 'blue', 'yellow')?\n",
        "my_tuple = ('red', 'green', 'blue', 'yellow')\n",
        "second_to_last = my_tuple[-2]\n",
        "print(second_to_last)\n"
      ],
      "metadata": {
        "colab": {
          "base_uri": "https://localhost:8080/"
        },
        "id": "1KgG1XFxXdwt",
        "outputId": "bb5407ba-fdd8-4a9f-b85f-260dda57e022"
      },
      "execution_count": null,
      "outputs": [
        {
          "output_type": "stream",
          "name": "stdout",
          "text": [
            "blue\n"
          ]
        }
      ]
    },
    {
      "cell_type": "code",
      "source": [
        "# Q13.Write a code to find the minimum number in the tuple (10, 20, 5, 15)?\n",
        "my_tuple = (10, 20, 5, 15)\n",
        "min(my_tuple)\n"
      ],
      "metadata": {
        "colab": {
          "base_uri": "https://localhost:8080/"
        },
        "id": "2DOH2G8TX5d7",
        "outputId": "6d79922c-c29f-47dc-afe1-fa8b83ac9387"
      },
      "execution_count": null,
      "outputs": [
        {
          "output_type": "execute_result",
          "data": {
            "text/plain": [
              "5"
            ]
          },
          "metadata": {},
          "execution_count": 35
        }
      ]
    },
    {
      "cell_type": "code",
      "source": [
        "#14.Write a code to find the index of the element \"cat\" in the tuple ('dog', 'cat', 'rabbit').\n",
        "\n",
        "my_tuple = ('dog', 'cat', 'rabbit')\n",
        "my_tuple.index('cat')"
      ],
      "metadata": {
        "colab": {
          "base_uri": "https://localhost:8080/"
        },
        "id": "Ml2Fj9bXYN9q",
        "outputId": "76a6d021-4bce-4277-8cd7-203244571ad8"
      },
      "execution_count": null,
      "outputs": [
        {
          "output_type": "execute_result",
          "data": {
            "text/plain": [
              "1"
            ]
          },
          "metadata": {},
          "execution_count": 36
        }
      ]
    },
    {
      "cell_type": "code",
      "source": [
        "# Q15. Write a code to create a tuple containing three different fruits and check if \"kiwi\" is in it.\n",
        "my_fruit = ('apple','mango','papaya', 'kiwi')\n",
        "print (\"kiwi\" in my_fruit)\n",
        "\n",
        "if 'kiwi' in my_fruit :\n",
        "  print('kiwi is in my_fruit')\n",
        "else :\n",
        "  print(\"kiwi is not in my fruit\")"
      ],
      "metadata": {
        "colab": {
          "base_uri": "https://localhost:8080/"
        },
        "id": "pATMRd1dY3Fr",
        "outputId": "bdd6aae2-7ab0-4342-eed1-e9d7e0010f02"
      },
      "execution_count": null,
      "outputs": [
        {
          "output_type": "stream",
          "name": "stdout",
          "text": [
            "True\n",
            "kiwi is in my_fruit\n"
          ]
        }
      ]
    },
    {
      "cell_type": "code",
      "source": [
        "# Q 16Write a code to create a set with the elements 'a', 'b', 'c' and print it?\n",
        "my_set ={'a','b','c'}\n",
        "print(my_set)"
      ],
      "metadata": {
        "id": "CA-2GnxFbI3C",
        "colab": {
          "base_uri": "https://localhost:8080/"
        },
        "outputId": "9952e958-94c7-4e15-bbd6-9800366f6fc0"
      },
      "execution_count": 42,
      "outputs": [
        {
          "output_type": "stream",
          "name": "stdout",
          "text": [
            "{'a', 'b', 'c'}\n"
          ]
        }
      ]
    },
    {
      "cell_type": "code",
      "source": [
        "# Q17. Write a code to clear all elements from the set {1, 2, 3, 4, 5}.\n",
        "my_set = {1,2,3,4,5}\n",
        "my_set.clear()\n",
        "print(my_set)\n",
        "\n",
        "\n",
        "'''\n",
        "my_set = {1, 2, 3, 4, 5}\n",
        "\n",
        "# Remove element 3\n",
        "my_set.remove(3)\n",
        "print(my_set)  # Output: {1, 2, 4, 5}\n",
        "\n",
        "# Discard element 6 (which is not present)\n",
        "my_set.discard(6)\n",
        "print(my_set)  # Output: {1, 2, 4, 5} (no change)\n",
        "*************************************************\n",
        "my_set = {1, 2, 3, 4, 5}\n",
        "elements_to_remove = {3, 5}\n",
        "\n",
        "# Using set difference (-)\n",
        "new_set = my_set - elements_to_remove\n",
        "print(new_set)  # Output: {1, 2, 4}\n",
        "\n",
        "# Using difference_update() (modifies the original set)\n",
        "my_set.difference_update(elements_to_remove)\n",
        "print(my_set)  # Output: {1, 2, 4}\n",
        " Choosing the Right Approach\n",
        "remove(): Use when you are sure the element is present and want an error if it's not.\n",
        "discard(): Use when you are not sure if the element is present and want to avoid errors.\n",
        "Set Difference: Use when you have a collection of elements to remove.\n",
        "\n",
        " '''"
      ],
      "metadata": {
        "colab": {
          "base_uri": "https://localhost:8080/",
          "height": 174
        },
        "id": "yLzpmSe1fILj",
        "outputId": "92189ba2-2d16-4780-c76a-6b992ceda475"
      },
      "execution_count": 51,
      "outputs": [
        {
          "output_type": "stream",
          "name": "stdout",
          "text": [
            "set()\n"
          ]
        },
        {
          "output_type": "execute_result",
          "data": {
            "text/plain": [
              "\"\\nmy_set = {1, 2, 3, 4, 5}\\n\\n# Remove element 3\\nmy_set.remove(3) \\nprint(my_set)  # Output: {1, 2, 4, 5}\\n\\n# Discard element 6 (which is not present)\\nmy_set.discard(6) \\nprint(my_set)  # Output: {1, 2, 4, 5} (no change)\\n*************************************************\\nmy_set = {1, 2, 3, 4, 5}\\nelements_to_remove = {3, 5}\\n\\n# Using set difference (-)\\nnew_set = my_set - elements_to_remove\\nprint(new_set)  # Output: {1, 2, 4}\\n\\n# Using difference_update() (modifies the original set)\\nmy_set.difference_update(elements_to_remove)\\nprint(my_set)  # Output: {1, 2, 4}\\n Choosing the Right Approach\\nremove(): Use when you are sure the element is present and want an error if it's not.\\ndiscard(): Use when you are not sure if the element is present and want to avoid errors.\\nSet Difference: Use when you have a collection of elements to remove.\\n\\n \""
            ],
            "application/vnd.google.colaboratory.intrinsic+json": {
              "type": "string"
            }
          },
          "metadata": {},
          "execution_count": 51
        }
      ]
    },
    {
      "cell_type": "code",
      "source": [
        "# Q18  Write a code to remove the element 4 from the set {1, 2, 3, 4}?\n",
        "my_set = {1,2,3,4}\n",
        "my_set.remove(4)\n",
        "print(my_set)"
      ],
      "metadata": {
        "colab": {
          "base_uri": "https://localhost:8080/"
        },
        "id": "Kuj9WuKqfvb8",
        "outputId": "20784ca7-8f29-4717-cd0f-700dd138d305"
      },
      "execution_count": 52,
      "outputs": [
        {
          "output_type": "stream",
          "name": "stdout",
          "text": [
            "{1, 2, 3}\n"
          ]
        }
      ]
    },
    {
      "cell_type": "code",
      "source": [
        "#Q19. Write a code to find the union of two sets {1, 2, 3} and {3, 4, 5} ?\n",
        "set_1 = {1,2,3}\n",
        "set_2 = {3,4,5}\n",
        "union = set_1.union(set_2)\n",
        "print(union)\n",
        "\n",
        "# Alternatively, using the | operator\n",
        "# union_set = set1 | set2\n",
        "\n",
        "# print(union_set)  # Output: {1, 2, 3, 4, 5}"
      ],
      "metadata": {
        "colab": {
          "base_uri": "https://localhost:8080/"
        },
        "id": "kMH5GIpjkBKV",
        "outputId": "856d37ce-af7b-4e64-e35a-691d7ced3b87"
      },
      "execution_count": 56,
      "outputs": [
        {
          "output_type": "stream",
          "name": "stdout",
          "text": [
            "{1, 2, 3, 4, 5}\n"
          ]
        }
      ]
    },
    {
      "cell_type": "code",
      "source": [
        "# Q20.  Write a code to find the intersection of two sets {1, 2, 3} and {2, 3, 4}.?\n",
        "set_1 = {1,2,3}\n",
        "set_2 = {2,3,4}\n",
        "intersection = set_1.intersection(set_2)\n",
        "print(intersection)\n",
        "\n",
        "#set1 = {1, 2, 3, 4}\n",
        "#set2 = {3, 4, 5, 6}\n",
        "\n",
        "#set1.intersection_update(set2)\n",
        "#print(set1)  # Output: {3, 4}\n"
      ],
      "metadata": {
        "colab": {
          "base_uri": "https://localhost:8080/"
        },
        "id": "HeFMWnlrkm3k",
        "outputId": "67a80803-fb45-4246-e9c2-383a7f006e0f"
      },
      "execution_count": 60,
      "outputs": [
        {
          "output_type": "stream",
          "name": "stdout",
          "text": [
            "{2, 3}\n"
          ]
        }
      ]
    },
    {
      "cell_type": "code",
      "source": [
        "# Q21.  Write a code to create a dictionary with the keys \"name\", \"age\", and \"city\", and print it?\n",
        "my_dict = dict(name='ranu',age=25,city='guna')\n",
        "print(my_dict)\n",
        "\n",
        "# Method 1: Using curly braces {}\n",
        "# my_dict = {\"name\": \"Alice\", \"age\": 30, \"city\": \"New York\"}\n",
        "# print(my_dict)  # Output: {'name': 'Alice', 'age': 30, 'city': 'New York'}"
      ],
      "metadata": {
        "colab": {
          "base_uri": "https://localhost:8080/"
        },
        "id": "2I1w-GgKl0Bq",
        "outputId": "dcce4a87-f7d0-414d-ab20-d677b540852e"
      },
      "execution_count": 65,
      "outputs": [
        {
          "output_type": "stream",
          "name": "stdout",
          "text": [
            "{'name': 'ranu', 'age': 25, 'city': 'guna'}\n"
          ]
        }
      ]
    },
    {
      "cell_type": "code",
      "source": [
        "# Q22. Write a code to add a new key-value pair \"country\": \"USA\" to the dictionary {'name': 'John', 'age': 25}?\n",
        "my_dict = {'name': 'john', 'age':25}\n",
        "my_dict['country'] = 'USA'\n",
        "my_dict"
      ],
      "metadata": {
        "colab": {
          "base_uri": "https://localhost:8080/"
        },
        "id": "mx2dKL5logf4",
        "outputId": "7ad2544f-bffc-4648-a252-b4a11dc43b65"
      },
      "execution_count": 66,
      "outputs": [
        {
          "output_type": "execute_result",
          "data": {
            "text/plain": [
              "{'name': 'john', 'age': 25, 'country': 'USA'}"
            ]
          },
          "metadata": {},
          "execution_count": 66
        }
      ]
    },
    {
      "cell_type": "code",
      "source": [
        "# Q23. Write a code to access the value associated with the key \"name\" in the dictionary {'name': 'Alice', 'age': 30}.?\n",
        "my_dict = {'name': 'Alice', 'age': 30}\n",
        "my_dict['name']\n"
      ],
      "metadata": {
        "colab": {
          "base_uri": "https://localhost:8080/",
          "height": 36
        },
        "id": "630CBR9ZtOUq",
        "outputId": "e7bf885a-ea73-4691-b232-47ddcc826069"
      },
      "execution_count": 67,
      "outputs": [
        {
          "output_type": "execute_result",
          "data": {
            "text/plain": [
              "'Alice'"
            ],
            "application/vnd.google.colaboratory.intrinsic+json": {
              "type": "string"
            }
          },
          "metadata": {},
          "execution_count": 67
        }
      ]
    },
    {
      "cell_type": "code",
      "source": [
        "# Q24. Write a code to remove the key \"age\" from the dictionary {'name': 'Bob', 'age': 22, 'city': 'New York'}.\n",
        "my_dict ={'name':'bob','age':22,'city':'new york'}\n",
        "#my_dict.pop('age')\n",
        "del my_dict['age']\n",
        "my_dict\n",
        "\n"
      ],
      "metadata": {
        "colab": {
          "base_uri": "https://localhost:8080/"
        },
        "id": "wGu6JqJ7uF4x",
        "outputId": "5240a107-b50b-449e-831a-ce752f00a338"
      },
      "execution_count": 69,
      "outputs": [
        {
          "output_type": "execute_result",
          "data": {
            "text/plain": [
              "{'name': 'bob', 'city': 'new york'}"
            ]
          },
          "metadata": {},
          "execution_count": 69
        }
      ]
    },
    {
      "cell_type": "code",
      "source": [
        "# Q25.  Write a code to check if the key \"city\" exists in the dictionary {'name': 'Alice', 'city': 'Paris'}?\n",
        "my_dict = {'name': 'Alice', 'city': 'Paris'}\n",
        "'city' in my_dict"
      ],
      "metadata": {
        "colab": {
          "base_uri": "https://localhost:8080/"
        },
        "id": "cacgTMSNwQmJ",
        "outputId": "91859d59-7cf1-40d1-edc7-ea85f8e83d08"
      },
      "execution_count": 70,
      "outputs": [
        {
          "output_type": "execute_result",
          "data": {
            "text/plain": [
              "True"
            ]
          },
          "metadata": {},
          "execution_count": 70
        }
      ]
    },
    {
      "cell_type": "code",
      "source": [
        "# Q26. Write a code to create a list, a tuple, and a dictionary, and print them all.\n",
        "my_list = [1,2,3,4,'apple','banana']\n",
        "my_tuple = (10, 20, 30, \"red\", \"green\")\n",
        "my_dict = {'name': 'Alice', 'age': 30, 'city': 'New York'}\n",
        "print(\"list:-\",my_list)\n",
        "print(\"tuple:-\",my_tuple)\n",
        "print(\"dictionary:-\",my_dict)\n",
        ""
      ],
      "metadata": {
        "colab": {
          "base_uri": "https://localhost:8080/"
        },
        "id": "ZkynFYe5xBNd",
        "outputId": "e5fc7904-adc2-4069-d67b-3ee5fed58a0d"
      },
      "execution_count": 73,
      "outputs": [
        {
          "output_type": "stream",
          "name": "stdout",
          "text": [
            "list:- [1, 2, 3, 4, 'apple', 'banana']\n",
            "tuple:- (10, 20, 30, 'red', 'green')\n",
            "dictionary:- {'name': 'Alice', 'age': 30, 'city': 'New York'}\n"
          ]
        }
      ]
    },
    {
      "cell_type": "code",
      "source": [
        "# Q27. Write a code to create a list of 5 random numbers between 1 and 100, sort it in ascending order, and print the result.(replaced)?\n",
        "import random\n",
        "\n",
        "random_list = [random.randint(1,100)\n",
        "for i in range(5)]\n",
        "random_list.sort()\n",
        "print(random_list)"
      ],
      "metadata": {
        "colab": {
          "base_uri": "https://localhost:8080/"
        },
        "id": "Wfm6DWmyy67S",
        "outputId": "d36b078f-18b3-45c0-b82c-5758a3f09944"
      },
      "execution_count": 83,
      "outputs": [
        {
          "output_type": "stream",
          "name": "stdout",
          "text": [
            "[23, 43, 51, 55, 98]\n"
          ]
        }
      ]
    },
    {
      "cell_type": "code",
      "source": [
        "#Q 28.Write a code to create a list with strings and print the element at the third index?\n",
        "my_list = [\"ram\",\"shyam\",\"donkey\",\"grape\",\"kiwi\"]\n",
        "print(my_list[3])"
      ],
      "metadata": {
        "colab": {
          "base_uri": "https://localhost:8080/"
        },
        "id": "YWtGuwuP0vYx",
        "outputId": "3a6ae031-77d5-4f7c-a716-2a00913e761e"
      },
      "execution_count": 84,
      "outputs": [
        {
          "output_type": "stream",
          "name": "stdout",
          "text": [
            "grape\n"
          ]
        }
      ]
    },
    {
      "cell_type": "code",
      "source": [
        "# Q29. Write a code to combine two dictionaries into one and print the result.\n",
        "dict_1 = {'a': 1, 'b': 2}\n",
        "dict_2 = {'c': 3, 'd': 4}\n",
        "combined_dict = {**dict_1,**dict_2}\n",
        "dict_1.update(dict_2)\n",
        "print(combined_dict)\n",
        "print(dict_1)\n",
        "\n"
      ],
      "metadata": {
        "colab": {
          "base_uri": "https://localhost:8080/"
        },
        "id": "D97SL6HG2c03",
        "outputId": "05b27087-33be-46ff-8555-34686636b47f"
      },
      "execution_count": 87,
      "outputs": [
        {
          "output_type": "stream",
          "name": "stdout",
          "text": [
            "{'a': 1, 'b': 2, 'c': 3, 'd': 4}\n",
            "{'a': 1, 'b': 2, 'c': 3, 'd': 4}\n"
          ]
        }
      ]
    },
    {
      "cell_type": "code",
      "source": [
        "# Q30. Write a code to convert a list of strings into a set?\n",
        "my_list = ['apple','banana','mango','salty','grape']\n",
        "\n",
        "my_set = set(my_list)\n",
        "print(my_set)\n"
      ],
      "metadata": {
        "colab": {
          "base_uri": "https://localhost:8080/"
        },
        "id": "blxYxZeh3i8d",
        "outputId": "63f2fdcf-ee0f-4eba-8310-32e1e61dbc2a"
      },
      "execution_count": 100,
      "outputs": [
        {
          "output_type": "stream",
          "name": "stdout",
          "text": [
            "{'salty', 'apple', 'banana', 'mango', 'grape'}\n"
          ]
        }
      ]
    },
    {
      "cell_type": "code",
      "source": [],
      "metadata": {
        "id": "mm83Dsvl5PHE"
      },
      "execution_count": null,
      "outputs": []
    }
  ]
}