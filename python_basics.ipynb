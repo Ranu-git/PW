{
  "nbformat": 4,
  "nbformat_minor": 0,
  "metadata": {
    "colab": {
      "provenance": [],
      "collapsed_sections": [
        "Vq8hb8nv0omD"
      ],
      "toc_visible": true
    },
    "kernelspec": {
      "name": "python3",
      "display_name": "Python 3"
    },
    "language_info": {
      "name": "python"
    }
  },
  "cells": [
    {
      "cell_type": "markdown",
      "source": [
        "# **Python Basic Questions**"
      ],
      "metadata": {
        "id": "Vq8hb8nv0omD"
      }
    },
    {
      "cell_type": "markdown",
      "source": [
        "Q1. What is Python, and why is it popular?\n",
        "\n",
        "  -Python is a high-level, general-purpose programming language known for its readability and versatility.  It's designed to be easy to learn and use, and it's capable of handling a wide range of tasks.  Its popularity stems from several factors:\n",
        "\n",
        "  Readability: Python's syntax is clear and intuitive, resembling plain English. This makes it easier to learn, write, and understand code, which leads to increased developer productivity.  The \"Zen of Python\" (a collection of guiding principles for Python design) explicitly emphasizes readability.\n",
        "\n",
        "  Versatility: Python is used in a vast array of applications, including:Web Development,Data Science and Machine Learning,Scripting and Automation,Scientific Computing,etc\n",
        "\n",
        "Q2. What is an interpreter in Python?\n",
        "\n",
        "  -The Python interpreter is a program that reads and executes Python code.\n",
        "  Here's a breakdown:\n",
        "\n",
        "  You write Python code in a file (like a .py file) or directly in an interactive environment like a Google Colab notebook cell.\n",
        "  The interpreter reads your code line by line.\n",
        "  For each line, the interpreter converts the code into instructions that the computer's processor can understand (this is often called bytecode).\n",
        "  The interpreter then executes those instructions.\n",
        "  This process continues until all of your code has been read and executed.\n",
        "  Why is this important?\n",
        "\n",
        "  Because of the interpreter, you don't have to compile your Python code into a separate executable file before running it. The interpreter allows for a more interactive and immediate way to write and test code.\n",
        "\n",
        "Q3.What are pre-defined keywords in Python?\n",
        "\n",
        "  -In Python, pre-defined keywords are reserved words that have special meanings. They are part of the Python language syntax and cannot be used as identifiers (like variable names, function names, etc.).\n",
        "  \n",
        "  Reserved Words: These keywords are reserved for specific purposes within the Python language. You cannot use them as names for your variables, functions, or other objects in your code.\n",
        "  \n",
        "  Case-Sensitive: Keywords in Python are case-sensitive. This means that True is a keyword, but true is not.\n",
        "  \n",
        "  Specific Meanings: Each keyword has a predefined meaning and usage within Python syntax. You need to understand these meanings to write correct and functional Python code.\n",
        "\n",
        "Examples: Some common Python keywords include if, else, for, while, def, class, import, return, True, False, and None.\n",
        "\n",
        "\n",
        "\n"
      ],
      "metadata": {
        "id": "-2Q4wwAMKvX5"
      }
    },
    {
      "cell_type": "markdown",
      "source": [
        "Q4. Can keywords be used as variable names?\n",
        "\n",
        "No, keywords cannot be used as variable names in Python. They are reserved words with predefined meanings and purposes within the Python language's syntax. Using a keyword as a variable name would create confusion for the interpreter, as it wouldn't be able to distinguish between the keyword's intended meaning and its use as a variable. This would lead to a syntax error.\n",
        "\n",
        "If you need a variable name similar to a keyword, you can modify it slightly (e.g., for_loop instead of for) or append an underscore (e.g., for_). However, it's generally best to avoid using names too similar to keywords to maintain code readability and clarity.\n"
      ],
      "metadata": {
        "id": "vpq3VV8zRkOg"
      }
    },
    {
      "cell_type": "code",
      "source": [
        " #for =-3 # show error\n",
        "for_1 = 3 # correct no error\n",
        "\n",
        "print(for_1)\n",
        "\n"
      ],
      "metadata": {
        "colab": {
          "base_uri": "https://localhost:8080/"
        },
        "id": "jY6M7zYBTVpk",
        "outputId": "b1640641-274a-4841-8b16-8d2e139c704a"
      },
      "execution_count": null,
      "outputs": [
        {
          "output_type": "stream",
          "name": "stdout",
          "text": [
            "3\n"
          ]
        }
      ]
    },
    {
      "cell_type": "markdown",
      "source": [
        "Q5. What is mutability in Python?\n",
        "\n",
        "  -In Python, mutability refers to the ability of an object to change its value after it has been created. Objects in Python can be classified as either mutable or immutable:\n",
        "\n",
        "Mutable objects:\n",
        "Can be changed after they are created.\n",
        "Modifying a mutable object directly affects the original object.\n",
        "Examples: lists, dictionaries, sets.\n",
        "\n",
        "Immutable objects:\n",
        "Cannot be changed after they are created.\n",
        "When you try to modify an immutable object, a new object is created with the modified value.\n",
        "Examples: strings, numbers, tuples.\n",
        "\n",
        "Why is mutability important?\n",
        "\n",
        "Mutability plays a significant role in how data is handled and manipulated in Python. It affects how functions operate on data and can influence the overall behavior of your programs."
      ],
      "metadata": {
        "id": "bX5zT6MnT_D0"
      }
    },
    {
      "cell_type": "code",
      "source": [
        "# Mutable object (list)\n",
        "my_list = [1, 2, 3]\n",
        "my_list[0] = 4\n",
        "print(my_list)  # Output: [4, 2, 3] (original list modified)\n",
        "\n",
        "# Immutable object (string)\n",
        "my_string = \"hello\"\n",
        "# my_string[0] = \"H\"  # This would raise a TypeError\n",
        "new_string = my_string.replace(\"h\", \"H\")\n",
        "print(new_string)  # Output: Hello (new string created)\n",
        "print(my_string)  # Output: hello (original string unchanged)"
      ],
      "metadata": {
        "id": "U4oXLLODXLSU"
      },
      "execution_count": null,
      "outputs": []
    },
    {
      "cell_type": "markdown",
      "source": [
        "Q6. Why are lists mutable, but tuples are immutable?\n",
        "\n",
        "  -Lists:\n",
        "\n",
        "Designed for modification: Lists are intended to be dynamic data structures that can be changed after creation. They are often used to store collections of items that need to be updated or reordered.\n",
        "Implementation: Lists are implemented as arrays of pointers to objects. This means that the list itself stores references to the objects it contains, not the objects themselves. Therefore, when you modify a list element, you are changing the reference it holds, which affects the original list.\n",
        "\n",
        "Tuples:\n",
        "\n",
        "Designed for data integrity: Tuples are intended to represent fixed collections of items. Their immutability ensures that once a tuple is created, its elements cannot be changed, providing data integrity.\n",
        "Implementation: Tuples are typically implemented as fixed-size arrays. This means that the memory allocated for a tuple is predetermined and cannot be altered after creation. As a result, trying to modify a tuple element would require creating a new tuple with the modified value, leaving the original tuple unchanged.\n",
        "Key differences and reasons for immutability:\n",
        "\n",
        "Lists are mutable because they are designed for dynamic collections of items that need to be modified. Tuples are immutable to ensure data integrity, hashability, and potential performance benefits. Understanding the differences between mutable and immutable objects is crucial for writing efficient and bug-free Python code.\n",
        "\n",
        "Q7. What is the difference between “==” and “is” operators in Python?\n",
        "\n",
        "  -\n",
        "  == (Equality Operator):\n",
        "\n",
        "Compares the values of two objects.\n",
        "\n",
        "Returns True if the values are equal, False otherwise.\n",
        "\n",
        "Used to check if two objects represent the same data.\n",
        "\n",
        "is (Identity Operator):\n",
        "\n",
        "Compares the memory addresses of two objects.\n",
        "Returns True if both variables point to the same object in memory, False otherwise.\n",
        "Used to check if two variables refer to the exact same object.\n",
        "In simpler terms:\n",
        "\n",
        "== asks: \"Do these two objects have the same value?\"\n",
        "is asks: \"Are these two variables pointing to the same object in memory?\"\n",
        "\n",
        "Example:"
      ],
      "metadata": {
        "id": "vrtWU1jkYgg6"
      }
    },
    {
      "cell_type": "code",
      "source": [
        "a = [1, 2, 3]\n",
        "b = a  # b now refers to the same object as a\n",
        "c = [1, 2, 3]  # c is a new list with the same values as a\n",
        "\n",
        "print(a == b)  # Output: True (values are equal)\n",
        "print(a is b)  # Output: True (refer to the same object)\n",
        "print(a == c)  # Output: True (values are equal)\n",
        "print(a is c)  # Output: False (refer to different objects)"
      ],
      "metadata": {
        "id": "HgR6vGJJd1U6"
      },
      "execution_count": null,
      "outputs": []
    },
    {
      "cell_type": "markdown",
      "source": [
        "When to use which operator:\n",
        "\n",
        "Use **==** when you want to compare the values of two objects.\n",
        "Use **is** when you want to check if two variables refer to the exact same object in memory.\n"
      ],
      "metadata": {
        "id": "sLUpNYINez3L"
      }
    },
    {
      "cell_type": "markdown",
      "source": [
        "Q8. What are logical operators in Python?\n",
        "\n",
        "  -Logical operators are used to combine or modify Boolean expressions (expressions that evaluate to True or False). Python has three main logical operators:\n",
        "\n",
        "  1. and: Returns True if both operands are True, otherwise False.\n"
      ],
      "metadata": {
        "id": "uA0ElOvmfTTr"
      }
    },
    {
      "cell_type": "code",
      "source": [
        "x = 5\n",
        "print (x > 3 and x < 10)  # Output: True (both conditions are True)\n",
        "print(x > 3 and x > 10)  # Output: False (second condition is False)"
      ],
      "metadata": {
        "id": "_CJDGxwWgnIL"
      },
      "execution_count": null,
      "outputs": []
    },
    {
      "cell_type": "markdown",
      "source": [
        "2. or: Returns True if at least one operand is True, otherwise False."
      ],
      "metadata": {
        "id": "9wF6OynbgvnH"
      }
    },
    {
      "cell_type": "code",
      "source": [
        "x = 5\n",
        "print(x > 3 or x < 10)  # Output: True (first condition is True)\n",
        "print(x < 3 or x > 10)  # Output: False (both conditions are False)"
      ],
      "metadata": {
        "id": "s-WocYzXg4AW"
      },
      "execution_count": null,
      "outputs": []
    },
    {
      "cell_type": "markdown",
      "source": [
        "3. not: Returns the opposite Boolean value of the operand."
      ],
      "metadata": {
        "id": "m-D8kLothS2C"
      }
    },
    {
      "cell_type": "code",
      "source": [
        "x = 5\n",
        "print(not x > 3)  # Output: False (x > 3 is True, so not x > 3 is False)\n",
        "print(not x < 3)  # Output: True (x < 3 is False, so not x < 3 is True)"
      ],
      "metadata": {
        "colab": {
          "base_uri": "https://localhost:8080/"
        },
        "id": "HIxoiI-VhdRM",
        "outputId": "42b54458-9e97-49fa-fbe5-9da06d45c9a4"
      },
      "execution_count": null,
      "outputs": [
        {
          "output_type": "stream",
          "name": "stdout",
          "text": [
            "False\n",
            "True\n"
          ]
        }
      ]
    },
    {
      "cell_type": "markdown",
      "source": [
        "Q9. What is type casting in Python?\n",
        "\n",
        "-Type casting, also known as type conversion, is the process of changing the data type of a value from one type to another. For example, converting an integer to a string or a float to an integer.\n",
        "\n",
        "Why is it useful?\n",
        "\n",
        "Data Compatibility: Sometimes, you need to perform operations on values of different data types, and type casting allows you to make them compatible.\n",
        "\n",
        "Input Validation: When taking user input, you might need to convert the input from a string to the desired data type (e.g., integer, float).\n",
        "\n",
        "Data Formatting: Type casting can be used to format data for display or storage (e.g., converting a number to a string with a specific number of decimal places).\n"
      ],
      "metadata": {
        "id": "0zWaAJFohwlI"
      }
    },
    {
      "cell_type": "code",
      "source": [
        "x = 10  # Integer\n",
        "y = 3.14  # Float\n",
        "z = x + y  # Implicitly converts x to a float\n",
        "print(z)  # Output: 13.14 (float)\n",
        "print(type(z))  # Output: <class 'float'>"
      ],
      "metadata": {
        "id": "tWCZyLAul83P"
      },
      "execution_count": null,
      "outputs": []
    },
    {
      "cell_type": "markdown",
      "source": [
        "Q10. What is the difference between implicit and explicit type casting?\n",
        "\n",
        "  -Implicit Type Casting: Python automatically performs some type conversions without requiring explicit code. This usually happens when operations involve different data types, and Python tries to convert them to a common type.Also known as \"coercion.\"\n",
        "Generally safer, as Python handles the conversion to avoid data loss or errors whenever possible."
      ],
      "metadata": {
        "id": "rtkJTJE2mO9z"
      }
    },
    {
      "source": [
        "x = 10  # Integer\n",
        "y = 3.14  # Float\n",
        "z = x + y  # Implicitly converts x to a float\n",
        "print(z)  # Output: 13.14 (float)\n",
        "print(type(z))  # Output: <class 'float'>"
      ],
      "cell_type": "code",
      "metadata": {
        "colab": {
          "base_uri": "https://localhost:8080/"
        },
        "id": "ga3bcJvYnDA5",
        "outputId": "9b3c0a5d-2559-40e0-fa0b-4af7d672d2e2"
      },
      "execution_count": null,
      "outputs": [
        {
          "output_type": "stream",
          "name": "stdout",
          "text": [
            "13.14\n",
            "<class 'float'>\n"
          ]
        }
      ]
    },
    {
      "cell_type": "markdown",
      "source": [
        "  \n",
        "  -Explicit Type Casting: You can explicitly convert a value to a specific data type using built-in functions like int(), float(), str(), bool(), etc.\n",
        "  \n",
        "  Gives you more control over the conversion process.\n",
        "Can be riskier if you're not careful about the data types involved, as it might lead to data loss or errors if the conversion is not possible."
      ],
      "metadata": {
        "id": "MNjj4wabmQRs"
      }
    },
    {
      "cell_type": "code",
      "source": [
        "x = \"123\"  # String\n",
        "y = int(x)  # Explicitly converts x to an integer\n",
        "print(y)  # Output: 123 (integer)\n",
        "print(type(y))  # Output: <class 'int'>"
      ],
      "metadata": {
        "id": "oSh07wneniMl"
      },
      "execution_count": null,
      "outputs": []
    },
    {
      "cell_type": "markdown",
      "source": [
        "In general, you should prefer implicit type casting whenever possible, as it's safer and more concise. However, explicit type casting is necessary when you need to control the conversion process or when Python's implicit rules don't meet your needs.\n"
      ],
      "metadata": {
        "id": "aR0HsMiEoq1t"
      }
    },
    {
      "cell_type": "markdown",
      "source": [
        "Q11.What is the purpose of conditional statements in Python?\n",
        "  \n",
        "  -Conditional statements are used to control the flow of execution in a program based on certain conditions. They allow you to execute specific blocks of code only if certain conditions are met.\n",
        "\n",
        "The main purpose of conditional statements is to introduce decision-making into your programs. This enables you to create programs that can respond differently to different inputs or situations.\n",
        "\n",
        "Here's a breakdown:\n",
        "\n",
        "Condition: A Boolean expression that evaluates to either True or False.\n",
        "Code Block: A set of statements that are executed only if the condition is True.\n",
        "\n",
        "Types of Conditional Statements:\n",
        "\n",
        "if statement: Executes a block of code if a condition is True.\n",
        "\n",
        "if-else statement: Executes one block of code if a condition is True and another block if the condition is False.\n",
        "\n",
        "if-elif-else statement: Allows you to check multiple conditions and execute different blocks of code based on which condition is True.\n",
        "Example:"
      ],
      "metadata": {
        "id": "ZPejL0Kvowt6"
      }
    },
    {
      "source": [
        "x = 10\n",
        "\n",
        "if x > 5:\n",
        "  print(\"x is greater than 5\")\n",
        "else:\n",
        "  print(\"x is not greater than 5\")"
      ],
      "cell_type": "code",
      "metadata": {
        "id": "7pOaNG50t7Fz"
      },
      "execution_count": null,
      "outputs": []
    },
    {
      "cell_type": "markdown",
      "source": [
        "Q12.How does the elif statement work?\n",
        "  \n",
        "  -The elif statement is used in conjunction with the if statement to create a chain of conditional checks. It stands for \"else if\" and allows you to check multiple conditions sequentially."
      ],
      "metadata": {
        "id": "zLFIYrFFt8ud"
      }
    },
    {
      "source": [
        "if condition1:\n",
        "    # Code block to execute if condition1 is True\n",
        "elif condition2:\n",
        "    # Code block to execute if condition1 is False and condition2 is True\n",
        "elif condition3:\n",
        "    # Code block to execute if condition1 and condition2 are False and condition3 is True\n",
        "else:\n",
        "    # Code block to execute if all previous conditions are False"
      ],
      "cell_type": "code",
      "metadata": {
        "id": "S0z8pxJuukUj"
      },
      "execution_count": null,
      "outputs": []
    },
    {
      "cell_type": "markdown",
      "source": [
        "How it Works:\n",
        "\n",
        "The if statement is evaluated first. If condition1 is True, the corresponding code block is executed, and the rest of the elif and else blocks are skipped.\n",
        "\n",
        "If condition1 is False, the first elif statement is evaluated. If condition2 is True, the corresponding code block is executed, and the remaining elif and else blocks are skipped.\n",
        "\n",
        "This process continues for each elif statement in the chain. If none of the elif conditions are True, the else block (if present) is executed."
      ],
      "metadata": {
        "id": "4o_1XUWdumQw"
      }
    },
    {
      "cell_type": "markdown",
      "source": [
        "Q13. What is the difference between for and while loops?\n",
        "  \n",
        "  -Both for and while loops are used for iteration, but they differ in how they control the iteration process.\n",
        "\n",
        "for loop:\n",
        "\n",
        "Iterates over a sequence (such as a list, tuple, string, or range) or other iterable object.\n",
        "Executes the loop body for each item in the sequence.\n",
        "The number of iterations is known beforehand (determined by the length of the sequence)."
      ],
      "metadata": {
        "id": "JrGvVaC0vCKa"
      }
    },
    {
      "source": [
        "for item in sequence:\n",
        "    # Code block to execute for each item"
      ],
      "cell_type": "code",
      "metadata": {
        "id": "CecrHOwGwsPb"
      },
      "execution_count": null,
      "outputs": []
    },
    {
      "source": [
        "fruits = [\"apple\", \"banana\", \"cherry\"]\n",
        "for fruit in fruits:\n",
        "    print(fruit)"
      ],
      "cell_type": "code",
      "metadata": {
        "id": "ryTK1h3EwtZY"
      },
      "execution_count": null,
      "outputs": []
    },
    {
      "cell_type": "markdown",
      "source": [
        "This loop iterates over the fruits list and prints each fruit.\n",
        "\n",
        "while loop:\n",
        "\n",
        "Repeats a block of code as long as a condition is True.\n",
        "The number of iterations is not necessarily known beforehand.\n",
        "Can be used to create infinite loops (if the condition is always True).\n",
        "Syntax:"
      ],
      "metadata": {
        "id": "ErFlO5qYwzFr"
      }
    },
    {
      "source": [
        "while condition:\n",
        "    # Code block to execute while the condition is True"
      ],
      "cell_type": "code",
      "metadata": {
        "id": "-_OgFlkqw8GT"
      },
      "execution_count": null,
      "outputs": []
    },
    {
      "source": [
        "count = 0\n",
        "while count < 5:\n",
        "    print(count)\n",
        "    count += 1"
      ],
      "cell_type": "code",
      "metadata": {
        "id": "ELMcL5S6w8uS"
      },
      "execution_count": null,
      "outputs": []
    },
    {
      "cell_type": "markdown",
      "source": [
        "This loop prints the numbers from 0 to 4.\n",
        "\n",
        "When to use which loop:\n",
        "\n",
        "Use a for loop when you know the number of iterations or need to iterate over a specific sequence.\n",
        "Use a while loop when the number of iterations is not known beforehand or when you need to repeat a task until a condition is met.\n",
        "In summary:\n",
        "\n",
        "for loops are best for iterating over sequences with a predetermined number of iterations, while while loops are more flexible and can be used for repeating tasks based on conditions. Choose the loop that best suits your specific needs."
      ],
      "metadata": {
        "id": "tZJKU39dxSal"
      }
    },
    {
      "cell_type": "markdown",
      "source": [
        "Q14. Describe a scenario where a while loop is more suitable than a for loop?\n",
        "\n",
        "  -Scenario: Reading user input until a specific condition is met.\n",
        "\n",
        "Imagine you want to create a program that repeatedly asks the user for input until they enter a specific value, such as the word \"quit\". In this case, you don't know beforehand how many times the loop needs to iterate. It depends on the user's input.\n",
        "\n",
        "Why while loop is suitable:\n",
        "\n",
        "  Unknown number of iterations: A while loop is ideal for situations where the number of iterations is not known in advance. The loop continues to execute as long as the condition is True, which in this case is the user not entering \"quit\".\n",
        "\n",
        "Flexibility: A while loop allows you to easily control the loop's termination based on a dynamic condition. You can check for the specific input value within the loop and break out of the loop when it's encountered."
      ],
      "metadata": {
        "id": "gbtzsvMjxz3J"
      }
    },
    {
      "source": [
        "user_input = \"\"\n",
        "while user_input != \"quit\":\n",
        "    user_input = input(\"Enter a value (or 'quit' to exit): \")\n",
        "    print(\"You entered:\", user_input)\n",
        "print(\"Exiting program.\")"
      ],
      "cell_type": "code",
      "metadata": {
        "id": "YISMn3cIz2QD"
      },
      "execution_count": null,
      "outputs": []
    },
    {
      "cell_type": "markdown",
      "source": [
        " the while loop keeps asking for input until the user enters \"quit\". The loop's condition (user_input != \"quit\") is checked before each iteration. When the user enters \"quit\", the condition becomes False, and the loop terminates.\n",
        "\n",
        "Why for loop is not as suitable:\n",
        "\n",
        "A for loop is typically used when you know the number of iterations or need to iterate over a specific sequence. In this scenario, you don't know how many times the user will enter input before entering \"quit\". You would need to use an arbitrary large range for the for loop, which might lead to unnecessary iterations or potentially an infinite loop if the user never enters \"quit\".\n",
        "\n",
        "Therefore, a while loop is more suitable for scenarios where the loop's termination depends on a dynamic condition that is evaluated during each iteration, such as reading user input until a specific value is entered."
      ],
      "metadata": {
        "id": "jNv5sVVw0e-W"
      }
    },
    {
      "cell_type": "markdown",
      "source": [
        "\n",
        "# Practical Questions\n"
      ],
      "metadata": {
        "id": "qcouqsrT162f"
      }
    },
    {
      "cell_type": "markdown",
      "source": [
        "Q1. Write a Python program to print \"Hello, World!"
      ],
      "metadata": {
        "id": "NQXksJpH2lAH"
      }
    },
    {
      "cell_type": "code",
      "source": [
        "print(\"Hello, World!\")\n"
      ],
      "metadata": {
        "colab": {
          "base_uri": "https://localhost:8080/"
        },
        "id": "IoB5B1PN2tkc",
        "outputId": "3bbef3ff-5c8e-4b70-ee17-bf8fc1e80286"
      },
      "execution_count": null,
      "outputs": [
        {
          "output_type": "stream",
          "name": "stdout",
          "text": [
            "Hello, World!\n"
          ]
        }
      ]
    },
    {
      "cell_type": "markdown",
      "source": [
        "Q2. Write a Python program that displays your name and age?\n"
      ],
      "metadata": {
        "id": "XaDFiYGC28xr"
      }
    },
    {
      "cell_type": "code",
      "source": [
        "name = input(\"enter your name: \")\n",
        "age = int(input(\"enter your age: \"))\n",
        "print(\"hello\",name ,\"your age is\",age)"
      ],
      "metadata": {
        "colab": {
          "base_uri": "https://localhost:8080/"
        },
        "id": "HPg5mrFU3FGa",
        "outputId": "1ede34be-f20c-45fb-cb20-c4b6ee3c121d"
      },
      "execution_count": null,
      "outputs": [
        {
          "output_type": "stream",
          "name": "stdout",
          "text": [
            "enter your name: ranu\n",
            "enter your age: 26\n",
            "hello ranu your age is 26\n"
          ]
        }
      ]
    },
    {
      "cell_type": "markdown",
      "source": [
        "Q3. Write code to print all the pre-defined keywords in Python using the keyword library?"
      ],
      "metadata": {
        "id": "nPXhP96mIoc6"
      }
    },
    {
      "cell_type": "code",
      "source": [
        "import keyword\n",
        "print(keyword.kwlist)\n",
        "len(keyword.kwlist)"
      ],
      "metadata": {
        "colab": {
          "base_uri": "https://localhost:8080/"
        },
        "id": "yyK5c1-FMUyS",
        "outputId": "0eea8187-85b9-4f1b-8367-bdd13c996c44"
      },
      "execution_count": null,
      "outputs": [
        {
          "output_type": "stream",
          "name": "stdout",
          "text": [
            "['False', 'None', 'True', 'and', 'as', 'assert', 'async', 'await', 'break', 'class', 'continue', 'def', 'del', 'elif', 'else', 'except', 'finally', 'for', 'from', 'global', 'if', 'import', 'in', 'is', 'lambda', 'nonlocal', 'not', 'or', 'pass', 'raise', 'return', 'try', 'while', 'with', 'yield']\n"
          ]
        },
        {
          "output_type": "execute_result",
          "data": {
            "text/plain": [
              "35"
            ]
          },
          "metadata": {},
          "execution_count": 5
        }
      ]
    },
    {
      "cell_type": "markdown",
      "source": [
        "Q4. Write a program that checks if a given word is a Python keyword?\n"
      ],
      "metadata": {
        "id": "UiA9hLYhOiw4"
      }
    },
    {
      "cell_type": "code",
      "source": [
        "import keyword\n",
        "print(keyword.kwlist)\n",
        "len(keyword.kwlist)\n",
        "word = input(\"Enter a word:- \")\n",
        "if word in keyword.kwlist:\n",
        "  print(word,\"is a python keyword\")\n",
        "else :\n",
        "    print(word,\"is not a python keyword\")"
      ],
      "metadata": {
        "colab": {
          "base_uri": "https://localhost:8080/"
        },
        "id": "WWGP7Dp-OZnY",
        "outputId": "c5574a61-263f-4c54-9f8c-36138794dbbf"
      },
      "execution_count": null,
      "outputs": [
        {
          "output_type": "stream",
          "name": "stdout",
          "text": [
            "['False', 'None', 'True', 'and', 'as', 'assert', 'async', 'await', 'break', 'class', 'continue', 'def', 'del', 'elif', 'else', 'except', 'finally', 'for', 'from', 'global', 'if', 'import', 'in', 'is', 'lambda', 'nonlocal', 'not', 'or', 'pass', 'raise', 'return', 'try', 'while', 'with', 'yield']\n",
            "Enter a word:- ab\n",
            "ab is not a python keyword\n"
          ]
        }
      ]
    },
    {
      "cell_type": "code",
      "source": [
        "from keyword import kwlist\n",
        "import keyword\n",
        "print (keyword.kwlist)\n",
        "word = input(\"enter a word:-\")\n",
        "if word := keyword.kwlist:\n",
        "  print(\"word is a python keyword\")\n",
        "else:\n",
        "  print(\"word is not a python keyword\")\n"
      ],
      "metadata": {
        "id": "cNfMwt65SgJm"
      },
      "execution_count": null,
      "outputs": []
    },
    {
      "cell_type": "markdown",
      "source": [
        "Q5. Create a list and tuple in Python, and demonstrate how attempting to change an element works differently\n",
        "for each?"
      ],
      "metadata": {
        "id": "z3xdPmAGSdiH"
      }
    },
    {
      "cell_type": "code",
      "source": [
        "my_list= [1,2,3]\n",
        "my_tuple =(1,2,3)\n",
        "my_list[1]=6\n",
        "print(my_list)\n",
        "\n",
        "#my_tuple[0] = 4  # This would raise a TypeError\n",
        "print(my_tuple)  # Output: (1, 2, 3) (Original tuple remains unchanged)\n",
        "\n",
        "#different ways to change a tuple\n",
        "\n",
        "# 1. converting to a list\n",
        "\n",
        "my_list= list(my_tuple) #converting a tuple into list\n",
        "my_list[0]=3\n",
        "new_tuple= tuple(my_list)\n",
        "print(new_tuple)\n",
        "\n",
        "# 2.concatination\n",
        "my_tuple =(1,2,3)\n",
        "new_tuple = my_tuple + (4,)\n",
        "print(new_tuple)"
      ],
      "metadata": {
        "id": "M1mRaakuSTjm",
        "colab": {
          "base_uri": "https://localhost:8080/"
        },
        "outputId": "7bf9f678-90bc-4e6e-9762-375a3a3d3b55"
      },
      "execution_count": null,
      "outputs": [
        {
          "output_type": "stream",
          "name": "stdout",
          "text": [
            "[1, 6, 3]\n",
            "(1, 2, 3)\n",
            "(3, 2, 3)\n",
            "(1, 2, 3, 4)\n"
          ]
        }
      ]
    },
    {
      "cell_type": "markdown",
      "source": [
        "Q6. Write a function to demonstrate the behavior of mutable and immutable arguments?"
      ],
      "metadata": {
        "id": "5nHfrvWoWeEy"
      }
    },
    {
      "source": [
        "def modify_arguments(mutable_arg, immutable_arg):\n",
        "\n",
        "    mutable_arg.append(4)\n",
        "    immutable_arg += 1\n",
        "\n",
        "    mutable_arg\n",
        "\n",
        "    print(\"Inside function:\")\n",
        "    print(\"Mutable argument:\", mutable_arg)\n",
        "    print(\"Immutable argument:\", immutable_arg)\n",
        "\n",
        "\n",
        "# Calling the function with a list and an integer\n",
        "my_list = [1, 2, 3]\n",
        "my_int = 10\n",
        "\n",
        "modify_arguments(my_list, my_int)\n",
        "\n",
        "print(\"\\nOutside function:\")\n",
        "print(\"Original list:\", my_list)\n",
        "print(\"Original integer:\", my_int)"
      ],
      "cell_type": "code",
      "metadata": {
        "colab": {
          "base_uri": "https://localhost:8080/"
        },
        "id": "6zhk2pPGMRkk",
        "outputId": "478621fc-3559-4875-d1bf-9592c3cd7115"
      },
      "execution_count": null,
      "outputs": [
        {
          "output_type": "stream",
          "name": "stdout",
          "text": [
            "Inside function:\n",
            "Mutable argument: [1, 2, 3, 4]\n",
            "Immutable argument: 11\n",
            "\n",
            "Outside function:\n",
            "Original list: [1, 2, 3, 4]\n",
            "Original integer: 10\n"
          ]
        }
      ]
    },
    {
      "cell_type": "markdown",
      "source": [
        "Q8. Write a program to demonstrate the use of logical operators?"
      ],
      "metadata": {
        "id": "pMkjhS3cM0B7"
      }
    },
    {
      "cell_type": "code",
      "source": [
        "# and, or , not\n",
        "print(True and True,\n",
        "      True and False,\n",
        "      True or True,\n",
        "      True or False,\n",
        "      not True,\n",
        "      )"
      ],
      "metadata": {
        "colab": {
          "base_uri": "https://localhost:8080/"
        },
        "id": "1zwwacg6M6De",
        "outputId": "b4f1de07-8c2c-4a87-e81a-b71a86fc6a36"
      },
      "execution_count": null,
      "outputs": [
        {
          "output_type": "stream",
          "name": "stdout",
          "text": [
            "True False True True False\n"
          ]
        }
      ]
    },
    {
      "cell_type": "markdown",
      "source": [
        "Q9. Write a Python program to convert user input from string to integer, float, and boolean types?\n"
      ],
      "metadata": {
        "id": "-nhxGMq0V6ay"
      }
    },
    {
      "cell_type": "code",
      "source": [
        "user_input =input(\"enter your age:-\")\n",
        "print(type(user_input))\n",
        "\n",
        "#converting into int\n",
        "user_input = int(user_input)\n",
        "print(type(user_input))\n",
        "print(user_input)\n",
        "\n",
        "#converting into float\n",
        "user_input = float(user_input)\n",
        "print(user_input)\n",
        "print(type(user_input))\n",
        "\n",
        "#converting into boolean\n",
        "user_input = bool(user_input)\n",
        "print(user_input)\n",
        "print(type(user_input))\n",
        "\n"
      ],
      "metadata": {
        "colab": {
          "base_uri": "https://localhost:8080/"
        },
        "collapsed": true,
        "id": "zR-pRhVZVJec",
        "outputId": "1c31f48a-dd0d-4c1a-d498-42caca9c931f"
      },
      "execution_count": null,
      "outputs": [
        {
          "output_type": "stream",
          "name": "stdout",
          "text": [
            "enter a value:-0\n",
            "<class 'str'>\n",
            "<class 'int'>\n",
            "0\n",
            "0.0\n",
            "<class 'float'>\n",
            "False\n",
            "<class 'bool'>\n"
          ]
        }
      ]
    },
    {
      "source": [
        "# Get user input as a string\n",
        "user_input = input(\"Enter a value: \")\n",
        "\n",
        "# Attempt to convert to integer\n",
        "try:\n",
        "    integer_value = int(user_input)\n",
        "    print(\"Integer:\", integer_value)\n",
        "except ValueError:\n",
        "    print(\"Could not convert to integer.\")\n",
        "\n",
        "# Attempt to convert to float\n",
        "try:\n",
        "    float_value = float(user_input)\n",
        "    print(\"Float:\", float_value)\n",
        "except ValueError:\n",
        "    print(\"Could not convert to float.\")\n",
        "\n",
        "# Attempt to convert to boolean\n",
        "if user_input.lower() in [\"true\", \"1\", \"t\", \"y\", \"yes\"]:\n",
        "    boolean_value = True\n",
        "    print(\"Boolean:\", boolean_value)\n",
        "elif user_input.lower() in [\"false\", \"0\", \"f\", \"n\", \"no\"]:\n",
        "    boolean_value = False\n",
        "    print(\"Boolean:\", boolean_value)\n",
        "else:\n",
        "    print(\"Could not convert to boolean.\")"
      ],
      "cell_type": "code",
      "metadata": {
        "collapsed": true,
        "id": "HidpifhZXnCl"
      },
      "execution_count": null,
      "outputs": []
    },
    {
      "cell_type": "markdown",
      "source": [
        " Q10. Write code to demonstrate type casting with list elements?"
      ],
      "metadata": {
        "id": "Bd_KF41Ogb5P"
      }
    },
    {
      "cell_type": "code",
      "source": [
        "list_1=[\"ranu\",1,0.5,True]\n",
        "print(list_1)\n",
        "print(type(list_1))\n",
        "print(type(list_1[0]),type(list_1[1]),type(list_1[2]),type(list_1[3]))\n",
        "\n",
        "#list_1[0] = int(list_1[0]) #string into int will tr\n",
        "list_1[1] = str(list_1[1]) #int into string\n",
        "list_1[2] = int(list_1[2]) #float into int\n",
        "list_1[3] = str(list_1[3]) #boolean into string\n",
        "\n",
        "print(list_1)\n",
        "\n",
        "\n"
      ],
      "metadata": {
        "colab": {
          "base_uri": "https://localhost:8080/"
        },
        "id": "XzhDGqUTbjUo",
        "outputId": "2e8063fb-8a24-41c8-bfbb-797a47932d32"
      },
      "execution_count": null,
      "outputs": [
        {
          "output_type": "stream",
          "name": "stdout",
          "text": [
            "['ranu', 1, 0.5, True]\n",
            "<class 'list'>\n",
            "<class 'str'> <class 'int'> <class 'float'> <class 'bool'>\n",
            "['ranu', '1', 0, 'True']\n"
          ]
        }
      ]
    },
    {
      "cell_type": "markdown",
      "source": [
        "Q11. Write a program that checks if a number is positive, negative, or zero?"
      ],
      "metadata": {
        "id": "VJpft7lGkH1D"
      }
    },
    {
      "cell_type": "code",
      "source": [
        "num = float(input(\"Enter a number: \"))\n",
        "\n",
        "\n",
        "if num > 0:\n",
        "    print(\"The number is positive.\")\n",
        "elif num < 0:\n",
        "    print(\"The number is negative.\")\n",
        "else:\n",
        "    print(\"The number is zero.\")\n"
      ],
      "metadata": {
        "id": "7skj7mv_kRbb"
      },
      "execution_count": null,
      "outputs": []
    },
    {
      "cell_type": "markdown",
      "source": [
        "Q12. Write a for loop to print numbers from 1 to 10?\n"
      ],
      "metadata": {
        "id": "UslSXBoNkwxW"
      }
    },
    {
      "cell_type": "code",
      "source": [
        "i =1\n",
        "for i in range(1,1):\n",
        "  print(i)\n",
        "  #i += 1"
      ],
      "metadata": {
        "colab": {
          "base_uri": "https://localhost:8080/"
        },
        "collapsed": true,
        "id": "wJyOLTSalPBo",
        "outputId": "7431d1dc-a0ed-430d-d8b2-f6cde48921f2"
      },
      "execution_count": null,
      "outputs": [
        {
          "output_type": "stream",
          "name": "stdout",
          "text": [
            "1\n",
            "2\n",
            "3\n",
            "4\n",
            "5\n",
            "6\n",
            "7\n",
            "8\n",
            "9\n"
          ]
        }
      ]
    },
    {
      "cell_type": "markdown",
      "source": [
        "Q13.Write a Python program to find the sum of all even numbers between 1 and 50?\n"
      ],
      "metadata": {
        "id": "72aHPegimm1g"
      }
    },
    {
      "cell_type": "code",
      "source": [
        "sum=0\n",
        "for i in range(1,51):\n",
        "  if i%2 ==0 :\n",
        "      sum = sum + i\n",
        "print(\"sumof \", sum)\n"
      ],
      "metadata": {
        "colab": {
          "base_uri": "https://localhost:8080/"
        },
        "id": "CffaRSFUmHKc",
        "outputId": "1f40f2b2-0b86-40b2-d4fb-f82db9dd3a31"
      },
      "execution_count": null,
      "outputs": [
        {
          "output_type": "stream",
          "name": "stdout",
          "text": [
            "sumof  650\n"
          ]
        }
      ]
    },
    {
      "cell_type": "markdown",
      "source": [
        "Q14.Write a program to reverse a string using a while loop?\n"
      ],
      "metadata": {
        "id": "cnoF6kXKpCC5"
      }
    },
    {
      "cell_type": "code",
      "source": [
        "def func(x):\n",
        "  reverse =\"\"\n",
        "  index = len(x)-1\n",
        "\n",
        "  while index >= 0:\n",
        "    reverse = reverse + x[index]\n",
        "    index = index -1\n",
        "  return reverse\n",
        "\n",
        "input_word= input(\"enter a word:-\")\n",
        "print(func(input_word))\n"
      ],
      "metadata": {
        "colab": {
          "base_uri": "https://localhost:8080/"
        },
        "id": "QUlQM-TWrFPK",
        "outputId": "b1598fc7-529b-44ce-8e78-f2e7ede6659f"
      },
      "execution_count": null,
      "outputs": [
        {
          "output_type": "stream",
          "name": "stdout",
          "text": [
            "enter a word:-ranu\n",
            "unar\n"
          ]
        }
      ]
    },
    {
      "cell_type": "markdown",
      "source": [
        "Q15. Write a Python program to calculate the factorial of a number provided by the user using a while loop?"
      ],
      "metadata": {
        "id": "eWBJLc-ctOWz"
      }
    },
    {
      "cell_type": "code",
      "source": [
        "num = int(input(\"enter a number:-\"))\n",
        "print(num)\n",
        "factorial =1\n",
        "\n",
        "if num < 0 :\n",
        "  print(\" factorial not defines for negative number\")\n",
        "elif num == 0 :\n",
        "  print(\"factorial of 0 in=s 1\")\n",
        "else :\n",
        "\n",
        "    for i in range(1,num+1):\n",
        "      factorial *= i\n",
        "    print(\"factorial of\",num,\"is\",factorial)\n"
      ],
      "metadata": {
        "colab": {
          "base_uri": "https://localhost:8080/"
        },
        "id": "fcP4HxfBpJtQ",
        "outputId": "b7476937-b986-4411-b4a0-1cb84aa684d4"
      },
      "execution_count": null,
      "outputs": [
        {
          "output_type": "stream",
          "name": "stdout",
          "text": [
            "enter a number:-9\n",
            "9\n",
            "factorial of 9 is 362880\n"
          ]
        }
      ]
    }
  ]
}